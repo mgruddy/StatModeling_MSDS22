{
 "cells": [
  {
   "cell_type": "code",
   "execution_count": 1,
   "id": "5e17ee10-f51c-4bc7-b698-510cfda3747f",
   "metadata": {},
   "outputs": [],
   "source": [
    "import pandas as pd\n",
    "import numpy as np\n",
    "import matplotlib.pyplot as plt\n",
    "import math\n",
    "import random\n",
    "\n",
    "import seaborn as sns\n",
    "import statsmodels.api as sm\n",
    "from statsmodels.formula.api import ols\n",
    "\n",
    "from sklearn.model_selection import train_test_split"
   ]
  },
  {
   "cell_type": "markdown",
   "id": "3149a398-b9df-4fe9-bcf7-d480a89389e0",
   "metadata": {},
   "source": [
    "Before we start:\n",
    "- Validation vs. Test\n",
    "- Data Leakage"
   ]
  },
  {
   "cell_type": "markdown",
   "id": "89a4a4e0-f213-476d-9a4d-cfb30c0b5ca7",
   "metadata": {},
   "source": [
    "Today we are going to talk about **Classification**. The goal will be to classify each observation into one of potentially many classes. We'll start with *binary* classification, or classifying into one of two classes. The following data can be found [here](https://www.kaggle.com/faressayah/college-data)."
   ]
  },
  {
   "cell_type": "code",
   "execution_count": 2,
   "id": "064cf4f4-fe03-4c0f-bbee-6ced9042730f",
   "metadata": {},
   "outputs": [
    {
     "data": {
      "text/html": [
       "<div>\n",
       "<style scoped>\n",
       "    .dataframe tbody tr th:only-of-type {\n",
       "        vertical-align: middle;\n",
       "    }\n",
       "\n",
       "    .dataframe tbody tr th {\n",
       "        vertical-align: top;\n",
       "    }\n",
       "\n",
       "    .dataframe thead th {\n",
       "        text-align: right;\n",
       "    }\n",
       "</style>\n",
       "<table border=\"1\" class=\"dataframe\">\n",
       "  <thead>\n",
       "    <tr style=\"text-align: right;\">\n",
       "      <th></th>\n",
       "      <th>private</th>\n",
       "      <th>apps</th>\n",
       "      <th>accept</th>\n",
       "      <th>enroll</th>\n",
       "      <th>top10perc</th>\n",
       "      <th>top25perc</th>\n",
       "      <th>f_undergrad</th>\n",
       "      <th>p_undergrad</th>\n",
       "      <th>outstate</th>\n",
       "      <th>room_board</th>\n",
       "      <th>books</th>\n",
       "      <th>personal</th>\n",
       "      <th>phd</th>\n",
       "      <th>terminal</th>\n",
       "      <th>s_f_ratio</th>\n",
       "      <th>perc_alumni</th>\n",
       "      <th>expend</th>\n",
       "      <th>grad_rate</th>\n",
       "    </tr>\n",
       "  </thead>\n",
       "  <tbody>\n",
       "    <tr>\n",
       "      <th>0</th>\n",
       "      <td>No</td>\n",
       "      <td>5659</td>\n",
       "      <td>4761</td>\n",
       "      <td>3147</td>\n",
       "      <td>10</td>\n",
       "      <td>31</td>\n",
       "      <td>8596</td>\n",
       "      <td>1949</td>\n",
       "      <td>6892</td>\n",
       "      <td>3706</td>\n",
       "      <td>600</td>\n",
       "      <td>2500</td>\n",
       "      <td>72</td>\n",
       "      <td>76</td>\n",
       "      <td>16.6</td>\n",
       "      <td>8</td>\n",
       "      <td>6996</td>\n",
       "      <td>40</td>\n",
       "    </tr>\n",
       "    <tr>\n",
       "      <th>1</th>\n",
       "      <td>Yes</td>\n",
       "      <td>8474</td>\n",
       "      <td>3446</td>\n",
       "      <td>911</td>\n",
       "      <td>75</td>\n",
       "      <td>94</td>\n",
       "      <td>3566</td>\n",
       "      <td>1569</td>\n",
       "      <td>18800</td>\n",
       "      <td>6740</td>\n",
       "      <td>500</td>\n",
       "      <td>1040</td>\n",
       "      <td>96</td>\n",
       "      <td>97</td>\n",
       "      <td>3.3</td>\n",
       "      <td>38</td>\n",
       "      <td>56233</td>\n",
       "      <td>90</td>\n",
       "    </tr>\n",
       "    <tr>\n",
       "      <th>2</th>\n",
       "      <td>Yes</td>\n",
       "      <td>8506</td>\n",
       "      <td>4168</td>\n",
       "      <td>1236</td>\n",
       "      <td>76</td>\n",
       "      <td>97</td>\n",
       "      <td>5544</td>\n",
       "      <td>192</td>\n",
       "      <td>17600</td>\n",
       "      <td>6000</td>\n",
       "      <td>600</td>\n",
       "      <td>870</td>\n",
       "      <td>97</td>\n",
       "      <td>98</td>\n",
       "      <td>5.0</td>\n",
       "      <td>28</td>\n",
       "      <td>28457</td>\n",
       "      <td>96</td>\n",
       "    </tr>\n",
       "    <tr>\n",
       "      <th>3</th>\n",
       "      <td>No</td>\n",
       "      <td>2320</td>\n",
       "      <td>1805</td>\n",
       "      <td>769</td>\n",
       "      <td>24</td>\n",
       "      <td>61</td>\n",
       "      <td>3395</td>\n",
       "      <td>670</td>\n",
       "      <td>6400</td>\n",
       "      <td>3392</td>\n",
       "      <td>580</td>\n",
       "      <td>2150</td>\n",
       "      <td>71</td>\n",
       "      <td>80</td>\n",
       "      <td>12.8</td>\n",
       "      <td>26</td>\n",
       "      <td>6729</td>\n",
       "      <td>59</td>\n",
       "    </tr>\n",
       "    <tr>\n",
       "      <th>4</th>\n",
       "      <td>No</td>\n",
       "      <td>6986</td>\n",
       "      <td>2959</td>\n",
       "      <td>1918</td>\n",
       "      <td>25</td>\n",
       "      <td>60</td>\n",
       "      <td>12330</td>\n",
       "      <td>7152</td>\n",
       "      <td>6618</td>\n",
       "      <td>4234</td>\n",
       "      <td>700</td>\n",
       "      <td>1600</td>\n",
       "      <td>80</td>\n",
       "      <td>98</td>\n",
       "      <td>22.2</td>\n",
       "      <td>9</td>\n",
       "      <td>6742</td>\n",
       "      <td>46</td>\n",
       "    </tr>\n",
       "  </tbody>\n",
       "</table>\n",
       "</div>"
      ],
      "text/plain": [
       "  private  apps  accept  enroll  top10perc  top25perc  f_undergrad  \\\n",
       "0      No  5659    4761    3147         10         31         8596   \n",
       "1     Yes  8474    3446     911         75         94         3566   \n",
       "2     Yes  8506    4168    1236         76         97         5544   \n",
       "3      No  2320    1805     769         24         61         3395   \n",
       "4      No  6986    2959    1918         25         60        12330   \n",
       "\n",
       "   p_undergrad  outstate  room_board  books  personal  phd  terminal  \\\n",
       "0         1949      6892        3706    600      2500   72        76   \n",
       "1         1569     18800        6740    500      1040   96        97   \n",
       "2          192     17600        6000    600       870   97        98   \n",
       "3          670      6400        3392    580      2150   71        80   \n",
       "4         7152      6618        4234    700      1600   80        98   \n",
       "\n",
       "   s_f_ratio  perc_alumni  expend  grad_rate  \n",
       "0       16.6            8    6996         40  \n",
       "1        3.3           38   56233         90  \n",
       "2        5.0           28   28457         96  \n",
       "3       12.8           26    6729         59  \n",
       "4       22.2            9    6742         46  "
      ]
     },
     "execution_count": 2,
     "metadata": {},
     "output_type": "execute_result"
    }
   ],
   "source": [
    "# can we classify colleges as public or private?\n",
    "# let's look at a sample of 500 colleges\n",
    "df_college = pd.read_csv('data/college_data.csv').sample(n=200, random_state=2022).reset_index(drop=True)\n",
    "# what does random_state do?\n",
    "df_college.head()"
   ]
  },
  {
   "cell_type": "code",
   "execution_count": 3,
   "id": "5f7277fb-8f6f-4d3d-aabe-28a1aea2b4b5",
   "metadata": {},
   "outputs": [
    {
     "data": {
      "text/html": [
       "<div>\n",
       "<style scoped>\n",
       "    .dataframe tbody tr th:only-of-type {\n",
       "        vertical-align: middle;\n",
       "    }\n",
       "\n",
       "    .dataframe tbody tr th {\n",
       "        vertical-align: top;\n",
       "    }\n",
       "\n",
       "    .dataframe thead th {\n",
       "        text-align: right;\n",
       "    }\n",
       "</style>\n",
       "<table border=\"1\" class=\"dataframe\">\n",
       "  <thead>\n",
       "    <tr style=\"text-align: right;\">\n",
       "      <th></th>\n",
       "      <th>private</th>\n",
       "      <th>apps</th>\n",
       "      <th>accept</th>\n",
       "      <th>enroll</th>\n",
       "      <th>top10perc</th>\n",
       "      <th>top25perc</th>\n",
       "      <th>f_undergrad</th>\n",
       "      <th>p_undergrad</th>\n",
       "      <th>outstate</th>\n",
       "      <th>room_board</th>\n",
       "      <th>books</th>\n",
       "      <th>personal</th>\n",
       "      <th>phd</th>\n",
       "      <th>terminal</th>\n",
       "      <th>s_f_ratio</th>\n",
       "      <th>perc_alumni</th>\n",
       "      <th>expend</th>\n",
       "      <th>grad_rate</th>\n",
       "      <th>is_private</th>\n",
       "    </tr>\n",
       "  </thead>\n",
       "  <tbody>\n",
       "    <tr>\n",
       "      <th>0</th>\n",
       "      <td>No</td>\n",
       "      <td>5659</td>\n",
       "      <td>4761</td>\n",
       "      <td>3147</td>\n",
       "      <td>10</td>\n",
       "      <td>31</td>\n",
       "      <td>8596</td>\n",
       "      <td>1949</td>\n",
       "      <td>6892</td>\n",
       "      <td>3706</td>\n",
       "      <td>600</td>\n",
       "      <td>2500</td>\n",
       "      <td>72</td>\n",
       "      <td>76</td>\n",
       "      <td>16.6</td>\n",
       "      <td>8</td>\n",
       "      <td>6996</td>\n",
       "      <td>40</td>\n",
       "      <td>0</td>\n",
       "    </tr>\n",
       "    <tr>\n",
       "      <th>1</th>\n",
       "      <td>Yes</td>\n",
       "      <td>8474</td>\n",
       "      <td>3446</td>\n",
       "      <td>911</td>\n",
       "      <td>75</td>\n",
       "      <td>94</td>\n",
       "      <td>3566</td>\n",
       "      <td>1569</td>\n",
       "      <td>18800</td>\n",
       "      <td>6740</td>\n",
       "      <td>500</td>\n",
       "      <td>1040</td>\n",
       "      <td>96</td>\n",
       "      <td>97</td>\n",
       "      <td>3.3</td>\n",
       "      <td>38</td>\n",
       "      <td>56233</td>\n",
       "      <td>90</td>\n",
       "      <td>1</td>\n",
       "    </tr>\n",
       "    <tr>\n",
       "      <th>2</th>\n",
       "      <td>Yes</td>\n",
       "      <td>8506</td>\n",
       "      <td>4168</td>\n",
       "      <td>1236</td>\n",
       "      <td>76</td>\n",
       "      <td>97</td>\n",
       "      <td>5544</td>\n",
       "      <td>192</td>\n",
       "      <td>17600</td>\n",
       "      <td>6000</td>\n",
       "      <td>600</td>\n",
       "      <td>870</td>\n",
       "      <td>97</td>\n",
       "      <td>98</td>\n",
       "      <td>5.0</td>\n",
       "      <td>28</td>\n",
       "      <td>28457</td>\n",
       "      <td>96</td>\n",
       "      <td>1</td>\n",
       "    </tr>\n",
       "    <tr>\n",
       "      <th>3</th>\n",
       "      <td>No</td>\n",
       "      <td>2320</td>\n",
       "      <td>1805</td>\n",
       "      <td>769</td>\n",
       "      <td>24</td>\n",
       "      <td>61</td>\n",
       "      <td>3395</td>\n",
       "      <td>670</td>\n",
       "      <td>6400</td>\n",
       "      <td>3392</td>\n",
       "      <td>580</td>\n",
       "      <td>2150</td>\n",
       "      <td>71</td>\n",
       "      <td>80</td>\n",
       "      <td>12.8</td>\n",
       "      <td>26</td>\n",
       "      <td>6729</td>\n",
       "      <td>59</td>\n",
       "      <td>0</td>\n",
       "    </tr>\n",
       "    <tr>\n",
       "      <th>4</th>\n",
       "      <td>No</td>\n",
       "      <td>6986</td>\n",
       "      <td>2959</td>\n",
       "      <td>1918</td>\n",
       "      <td>25</td>\n",
       "      <td>60</td>\n",
       "      <td>12330</td>\n",
       "      <td>7152</td>\n",
       "      <td>6618</td>\n",
       "      <td>4234</td>\n",
       "      <td>700</td>\n",
       "      <td>1600</td>\n",
       "      <td>80</td>\n",
       "      <td>98</td>\n",
       "      <td>22.2</td>\n",
       "      <td>9</td>\n",
       "      <td>6742</td>\n",
       "      <td>46</td>\n",
       "      <td>0</td>\n",
       "    </tr>\n",
       "  </tbody>\n",
       "</table>\n",
       "</div>"
      ],
      "text/plain": [
       "  private  apps  accept  enroll  top10perc  top25perc  f_undergrad  \\\n",
       "0      No  5659    4761    3147         10         31         8596   \n",
       "1     Yes  8474    3446     911         75         94         3566   \n",
       "2     Yes  8506    4168    1236         76         97         5544   \n",
       "3      No  2320    1805     769         24         61         3395   \n",
       "4      No  6986    2959    1918         25         60        12330   \n",
       "\n",
       "   p_undergrad  outstate  room_board  books  personal  phd  terminal  \\\n",
       "0         1949      6892        3706    600      2500   72        76   \n",
       "1         1569     18800        6740    500      1040   96        97   \n",
       "2          192     17600        6000    600       870   97        98   \n",
       "3          670      6400        3392    580      2150   71        80   \n",
       "4         7152      6618        4234    700      1600   80        98   \n",
       "\n",
       "   s_f_ratio  perc_alumni  expend  grad_rate  is_private  \n",
       "0       16.6            8    6996         40           0  \n",
       "1        3.3           38   56233         90           1  \n",
       "2        5.0           28   28457         96           1  \n",
       "3       12.8           26    6729         59           0  \n",
       "4       22.2            9    6742         46           0  "
      ]
     },
     "execution_count": 3,
     "metadata": {},
     "output_type": "execute_result"
    }
   ],
   "source": [
    "# create the variable is_private!\n",
    "df_college['is_private'] = df_college['private'].apply(lambda x: int(x == 'Yes'))\n",
    "df_college.head()"
   ]
  },
  {
   "cell_type": "code",
   "execution_count": 4,
   "id": "a8b46079-a50c-410a-a0a8-d11bbb28ffef",
   "metadata": {},
   "outputs": [
    {
     "data": {
      "image/png": "[encoded data removed]",
      "text/plain": [
       "<Figure size 432x288 with 1 Axes>"
      ]
     },
     "metadata": {
      "needs_background": "light"
     },
     "output_type": "display_data"
    }
   ],
   "source": [
    "# does out of state tuition predict private/public?\n",
    "plt.scatter(x=df_college['outstate'], y=df_college['is_private'])\n",
    "plt.show()"
   ]
  },
  {
   "cell_type": "code",
   "execution_count": 5,
   "id": "661a732f-a5cc-47a8-b1ac-029217a4b12c",
   "metadata": {},
   "outputs": [
    {
     "data": {
      "image/png": "[encoded data removed]",
      "text/plain": [
       "<Figure size 360x360 with 1 Axes>"
      ]
     },
     "metadata": {
      "needs_background": "light"
     },
     "output_type": "display_data"
    }
   ],
   "source": [
    "# linear regression doesn't seem to be the best here...\n",
    "sns.lmplot(x='outstate', y='is_private', data=df_college)\n",
    "plt.show()"
   ]
  },
  {
   "cell_type": "code",
   "execution_count": 6,
   "id": "cdd88a24-e1ec-4f37-a7a2-555c2d736132",
   "metadata": {},
   "outputs": [
    {
     "data": {
      "text/html": [
       "<div>\n",
       "<style scoped>\n",
       "    .dataframe tbody tr th:only-of-type {\n",
       "        vertical-align: middle;\n",
       "    }\n",
       "\n",
       "    .dataframe tbody tr th {\n",
       "        vertical-align: top;\n",
       "    }\n",
       "\n",
       "    .dataframe thead th {\n",
       "        text-align: right;\n",
       "    }\n",
       "</style>\n",
       "<table border=\"1\" class=\"dataframe\">\n",
       "  <thead>\n",
       "    <tr style=\"text-align: right;\">\n",
       "      <th></th>\n",
       "      <th>outstate</th>\n",
       "      <th>is_private</th>\n",
       "    </tr>\n",
       "  </thead>\n",
       "  <tbody>\n",
       "    <tr>\n",
       "      <th>outstate</th>\n",
       "      <td>1.000000</td>\n",
       "      <td>0.525574</td>\n",
       "    </tr>\n",
       "    <tr>\n",
       "      <th>is_private</th>\n",
       "      <td>0.525574</td>\n",
       "      <td>1.000000</td>\n",
       "    </tr>\n",
       "  </tbody>\n",
       "</table>\n",
       "</div>"
      ],
      "text/plain": [
       "            outstate  is_private\n",
       "outstate    1.000000    0.525574\n",
       "is_private  0.525574    1.000000"
      ]
     },
     "execution_count": 6,
     "metadata": {},
     "output_type": "execute_result"
    }
   ],
   "source": [
    "df_college[['outstate', 'is_private']].corr()"
   ]
  },
  {
   "cell_type": "markdown",
   "id": "581dc755-5f1f-4f58-aea9-b7ca1ec57826",
   "metadata": {},
   "source": [
    "- Does binary data fit the assumptions from OLS regression?"
   ]
  },
  {
   "cell_type": "markdown",
   "id": "eb9b33ee-2ffd-4913-a889-60604e5a65d9",
   "metadata": {},
   "source": [
    "The goal here will to predict the *probability* that a given observation falls into the class defined by $1$. In other words given independent variable $X$ and target variable $Y$, we want to find $P(Y=1|X)$. Additionaly we want to do with the same *linear* framework as before."
   ]
  },
  {
   "cell_type": "markdown",
   "id": "c73825c3-db9d-41ca-b55a-b36c635be276",
   "metadata": {},
   "source": [
    "So let's instead try to predict the **Odds** of an event occurring. In sports betting, odds are often used instead of probability:\n",
    "\n",
    "- \"The San Francisco Giants are a long shot, they have 10-1 odds of winning.\"\n",
    "- \"There's no way the San Francisco 49ers are going to lose, the betting odds are one to five!\"\n",
    "- \"Never tell me the odds.\" - Han Solo, *Star Wars*\n",
    "\n",
    "If a event has probability $p$ of occuring, then the odds of the event are\n",
    "\n",
    "$$\n",
    "Odds = \\frac{p}{1-p}\n",
    "$$\n",
    "\n",
    "- What is $p$ in the two sports examples above?"
   ]
  },
  {
   "cell_type": "code",
   "execution_count": 7,
   "id": "d5008396-f1b9-4db7-998a-f018549de1be",
   "metadata": {},
   "outputs": [
    {
     "data": {
      "image/png": "[encoded data removed]",
      "text/plain": [
       "<Figure size 432x288 with 1 Axes>"
      ]
     },
     "metadata": {
      "needs_background": "light"
     },
     "output_type": "display_data"
    }
   ],
   "source": [
    "# full dataset\n",
    "df_college = pd.read_csv('data/college_data.csv')\n",
    "df_college['is_private'] = df_college['private'].apply(lambda x: int(x == 'Yes'))\n",
    "\n",
    "df_college['outstate'].hist(bins=12)\n",
    "plt.show()"
   ]
  },
  {
   "cell_type": "code",
   "execution_count": 8,
   "id": "c1e7b23e-83d0-4322-9696-a9842f903536",
   "metadata": {},
   "outputs": [
    {
     "data": {
      "text/html": [
       "<div>\n",
       "<style scoped>\n",
       "    .dataframe tbody tr th:only-of-type {\n",
       "        vertical-align: middle;\n",
       "    }\n",
       "\n",
       "    .dataframe tbody tr th {\n",
       "        vertical-align: top;\n",
       "    }\n",
       "\n",
       "    .dataframe thead th {\n",
       "        text-align: right;\n",
       "    }\n",
       "</style>\n",
       "<table border=\"1\" class=\"dataframe\">\n",
       "  <thead>\n",
       "    <tr style=\"text-align: right;\">\n",
       "      <th>is_private</th>\n",
       "      <th>0</th>\n",
       "      <th>1</th>\n",
       "    </tr>\n",
       "    <tr>\n",
       "      <th>outstate</th>\n",
       "      <th></th>\n",
       "      <th></th>\n",
       "    </tr>\n",
       "  </thead>\n",
       "  <tbody>\n",
       "    <tr>\n",
       "      <th>(2320.64, 3953.333]</th>\n",
       "      <td>11</td>\n",
       "      <td>1</td>\n",
       "    </tr>\n",
       "    <tr>\n",
       "      <th>(3953.333, 5566.667]</th>\n",
       "      <td>49</td>\n",
       "      <td>17</td>\n",
       "    </tr>\n",
       "    <tr>\n",
       "      <th>(5566.667, 7180.0]</th>\n",
       "      <td>75</td>\n",
       "      <td>33</td>\n",
       "    </tr>\n",
       "    <tr>\n",
       "      <th>(7180.0, 8793.333]</th>\n",
       "      <td>47</td>\n",
       "      <td>69</td>\n",
       "    </tr>\n",
       "    <tr>\n",
       "      <th>(8793.333, 10406.667]</th>\n",
       "      <td>16</td>\n",
       "      <td>96</td>\n",
       "    </tr>\n",
       "    <tr>\n",
       "      <th>(10406.667, 12020.0]</th>\n",
       "      <td>9</td>\n",
       "      <td>114</td>\n",
       "    </tr>\n",
       "    <tr>\n",
       "      <th>(12020.0, 13633.333]</th>\n",
       "      <td>2</td>\n",
       "      <td>80</td>\n",
       "    </tr>\n",
       "    <tr>\n",
       "      <th>(13633.333, 15246.667]</th>\n",
       "      <td>1</td>\n",
       "      <td>46</td>\n",
       "    </tr>\n",
       "    <tr>\n",
       "      <th>(15246.667, 16860.0]</th>\n",
       "      <td>2</td>\n",
       "      <td>36</td>\n",
       "    </tr>\n",
       "    <tr>\n",
       "      <th>(16860.0, 18473.333]</th>\n",
       "      <td>0</td>\n",
       "      <td>33</td>\n",
       "    </tr>\n",
       "    <tr>\n",
       "      <th>(18473.333, 20086.667]</th>\n",
       "      <td>0</td>\n",
       "      <td>38</td>\n",
       "    </tr>\n",
       "    <tr>\n",
       "      <th>(20086.667, 21700.0]</th>\n",
       "      <td>0</td>\n",
       "      <td>2</td>\n",
       "    </tr>\n",
       "  </tbody>\n",
       "</table>\n",
       "</div>"
      ],
      "text/plain": [
       "is_private               0    1\n",
       "outstate                       \n",
       "(2320.64, 3953.333]     11    1\n",
       "(3953.333, 5566.667]    49   17\n",
       "(5566.667, 7180.0]      75   33\n",
       "(7180.0, 8793.333]      47   69\n",
       "(8793.333, 10406.667]   16   96\n",
       "(10406.667, 12020.0]     9  114\n",
       "(12020.0, 13633.333]     2   80\n",
       "(13633.333, 15246.667]   1   46\n",
       "(15246.667, 16860.0]     2   36\n",
       "(16860.0, 18473.333]     0   33\n",
       "(18473.333, 20086.667]   0   38\n",
       "(20086.667, 21700.0]     0    2"
      ]
     },
     "execution_count": 8,
     "metadata": {},
     "output_type": "execute_result"
    }
   ],
   "source": [
    "# for each of these bins let's count the number of private schools to estimate P(is_private=1|outstate)\n",
    "tuition_bins = pd.cut(df_college['outstate'], bins=12)\n",
    "ct = pd.crosstab(tuition_bins,df_college['is_private'])\n",
    "ct"
   ]
  },
  {
   "cell_type": "code",
   "execution_count": 9,
   "id": "14ef06fc-6596-4450-93ff-21044f418c30",
   "metadata": {},
   "outputs": [
    {
     "data": {
      "text/html": [
       "<div>\n",
       "<style scoped>\n",
       "    .dataframe tbody tr th:only-of-type {\n",
       "        vertical-align: middle;\n",
       "    }\n",
       "\n",
       "    .dataframe tbody tr th {\n",
       "        vertical-align: top;\n",
       "    }\n",
       "\n",
       "    .dataframe thead th {\n",
       "        text-align: right;\n",
       "    }\n",
       "</style>\n",
       "<table border=\"1\" class=\"dataframe\">\n",
       "  <thead>\n",
       "    <tr style=\"text-align: right;\">\n",
       "      <th>is_private</th>\n",
       "      <th>0</th>\n",
       "      <th>1</th>\n",
       "      <th>freq</th>\n",
       "    </tr>\n",
       "    <tr>\n",
       "      <th>outstate</th>\n",
       "      <th></th>\n",
       "      <th></th>\n",
       "      <th></th>\n",
       "    </tr>\n",
       "  </thead>\n",
       "  <tbody>\n",
       "    <tr>\n",
       "      <th>(2320.64, 3953.333]</th>\n",
       "      <td>11</td>\n",
       "      <td>1</td>\n",
       "      <td>0.083333</td>\n",
       "    </tr>\n",
       "    <tr>\n",
       "      <th>(3953.333, 5566.667]</th>\n",
       "      <td>49</td>\n",
       "      <td>17</td>\n",
       "      <td>0.257576</td>\n",
       "    </tr>\n",
       "    <tr>\n",
       "      <th>(5566.667, 7180.0]</th>\n",
       "      <td>75</td>\n",
       "      <td>33</td>\n",
       "      <td>0.305556</td>\n",
       "    </tr>\n",
       "    <tr>\n",
       "      <th>(7180.0, 8793.333]</th>\n",
       "      <td>47</td>\n",
       "      <td>69</td>\n",
       "      <td>0.594828</td>\n",
       "    </tr>\n",
       "    <tr>\n",
       "      <th>(8793.333, 10406.667]</th>\n",
       "      <td>16</td>\n",
       "      <td>96</td>\n",
       "      <td>0.857143</td>\n",
       "    </tr>\n",
       "    <tr>\n",
       "      <th>(10406.667, 12020.0]</th>\n",
       "      <td>9</td>\n",
       "      <td>114</td>\n",
       "      <td>0.926829</td>\n",
       "    </tr>\n",
       "    <tr>\n",
       "      <th>(12020.0, 13633.333]</th>\n",
       "      <td>2</td>\n",
       "      <td>80</td>\n",
       "      <td>0.975610</td>\n",
       "    </tr>\n",
       "    <tr>\n",
       "      <th>(13633.333, 15246.667]</th>\n",
       "      <td>1</td>\n",
       "      <td>46</td>\n",
       "      <td>0.978723</td>\n",
       "    </tr>\n",
       "    <tr>\n",
       "      <th>(15246.667, 16860.0]</th>\n",
       "      <td>2</td>\n",
       "      <td>36</td>\n",
       "      <td>0.947368</td>\n",
       "    </tr>\n",
       "    <tr>\n",
       "      <th>(16860.0, 18473.333]</th>\n",
       "      <td>0</td>\n",
       "      <td>33</td>\n",
       "      <td>1.000000</td>\n",
       "    </tr>\n",
       "    <tr>\n",
       "      <th>(18473.333, 20086.667]</th>\n",
       "      <td>0</td>\n",
       "      <td>38</td>\n",
       "      <td>1.000000</td>\n",
       "    </tr>\n",
       "    <tr>\n",
       "      <th>(20086.667, 21700.0]</th>\n",
       "      <td>0</td>\n",
       "      <td>2</td>\n",
       "      <td>1.000000</td>\n",
       "    </tr>\n",
       "  </tbody>\n",
       "</table>\n",
       "</div>"
      ],
      "text/plain": [
       "is_private               0    1      freq\n",
       "outstate                                 \n",
       "(2320.64, 3953.333]     11    1  0.083333\n",
       "(3953.333, 5566.667]    49   17  0.257576\n",
       "(5566.667, 7180.0]      75   33  0.305556\n",
       "(7180.0, 8793.333]      47   69  0.594828\n",
       "(8793.333, 10406.667]   16   96  0.857143\n",
       "(10406.667, 12020.0]     9  114  0.926829\n",
       "(12020.0, 13633.333]     2   80  0.975610\n",
       "(13633.333, 15246.667]   1   46  0.978723\n",
       "(15246.667, 16860.0]     2   36  0.947368\n",
       "(16860.0, 18473.333]     0   33  1.000000\n",
       "(18473.333, 20086.667]   0   38  1.000000\n",
       "(20086.667, 21700.0]     0    2  1.000000"
      ]
     },
     "execution_count": 9,
     "metadata": {},
     "output_type": "execute_result"
    }
   ],
   "source": [
    "ct['freq'] = (ct[1] / (ct[0] + ct[1]))\n",
    "ct"
   ]
  },
  {
   "cell_type": "code",
   "execution_count": 10,
   "id": "e57387c6-3e4d-47b9-a0ad-2cb5629d92d5",
   "metadata": {},
   "outputs": [
    {
     "data": {
      "image/png": "[encoded data removed]",
      "text/plain": [
       "<Figure size 432x288 with 1 Axes>"
      ]
     },
     "metadata": {
      "needs_background": "light"
     },
     "output_type": "display_data"
    }
   ],
   "source": [
    "# get the midpoints\n",
    "ct['midpoints'] = ct.index.to_series().apply(lambda x: x.mid)\n",
    "\n",
    "# plot the frequency\n",
    "plt.scatter(x=ct['midpoints'], y=ct['freq'])\n",
    "plt.show()"
   ]
  },
  {
   "cell_type": "code",
   "execution_count": 11,
   "id": "2d715196-7f6f-44a1-ba68-d8919510d9f3",
   "metadata": {},
   "outputs": [
    {
     "data": {
      "image/png": "[encoded data removed]",
      "text/plain": [
       "<Figure size 432x288 with 1 Axes>"
      ]
     },
     "metadata": {
      "needs_background": "light"
     },
     "output_type": "display_data"
    }
   ],
   "source": [
    "# get the odds\n",
    "def odds(p):\n",
    "    if p < 1.0:\n",
    "        return (p / (1-p))\n",
    "    \n",
    "    # if the odds are \"infinite\" set a cap at 75\n",
    "    else:\n",
    "        return 75\n",
    "\n",
    "\n",
    "ct['odds'] = ct['freq'].apply(odds)\n",
    "\n",
    "# plot the odds\n",
    "plt.scatter(x=ct['midpoints'], y=ct['odds'])\n",
    "plt.show()"
   ]
  },
  {
   "cell_type": "markdown",
   "id": "86285daa-bc01-4846-8597-10518156923d",
   "metadata": {},
   "source": [
    "Now the Odds here don't look very linear... But the *log* of the odds does.\n",
    "\n",
    "The number $e=2.718281828...$ is a special constant.\n",
    "- The rate of change of the function $f(x)=e^x$ is given by $f'(x)=e^x$.\n",
    "- We also have that $\\displaystyle \\lim_{n\\rightarrow\\infty} \\left(1+ \\frac{1}{n}\\right)^n = e$ (related to compound interest)\n",
    "\n",
    "Consider\n",
    "$$\n",
    "y = f(x) = e^x.\n",
    "$$\n",
    "This completely determines the inverse relationship, i.e. the function $x=g(y)$:\n",
    "$$\n",
    "\\ln(y) = \\log_e(y) = \\log(y) = x\n",
    "$$\n",
    "\n",
    "Below we plot $\\displaystyle \\log\\left(\\frac{p}{1-p}\\right)$ against the independent variable."
   ]
  },
  {
   "cell_type": "code",
   "execution_count": 12,
   "id": "9a117754-67cc-45bd-8275-f34f7ba11931",
   "metadata": {},
   "outputs": [
    {
     "data": {
      "image/png": "[encoded data removed]",
      "text/plain": [
       "<Figure size 432x288 with 1 Axes>"
      ]
     },
     "metadata": {
      "needs_background": "light"
     },
     "output_type": "display_data"
    }
   ],
   "source": [
    "# looks a bit linear!\n",
    "ct['log_odds'] = ct['odds'].apply(lambda x : math.log(x))\n",
    "\n",
    "# plot the odds\n",
    "plt.scatter(x=ct['midpoints'], y=ct['log_odds'])\n",
    "plt.show()"
   ]
  },
  {
   "cell_type": "markdown",
   "id": "c2cc9b0e-d6b7-4afb-9a04-30e20f5614ab",
   "metadata": {},
   "source": [
    "### Logistic Regression\n",
    "\n",
    "Find the parameters $\\beta_0, \\beta_1$ to create the model\n",
    "\n",
    "$$\n",
    "\\log\\left(\\frac{p}{1-p}\\right) = \\beta_0 + \\beta_1 X\n",
    "$$\n",
    "\n",
    "Rearranging we have\n",
    "\n",
    "$$\n",
    "\\begin{align}\n",
    "\\frac{p}{1-p} &= e^{\\beta_0 +\\beta_1 X}\\\\\n",
    "1 + \\frac{p}{1-p} &= 1 + e^{\\beta_0 +\\beta_1 X}\\\\\n",
    "\\frac{1}{1-p} &= 1 + e^{\\beta_0 +\\beta_1 X}\\\\\n",
    "1-p &= \\frac{1}{1 + e^{\\beta_0 +\\beta_1 X}}\\\\\n",
    "1 - \\frac{1}{1 + e^{\\beta_0 +\\beta_1 X}} &= p\\\\\n",
    "\\frac{ e^{\\beta_0 +\\beta_1 X}}{1 + e^{\\beta_0 +\\beta_1 X}} &= p\\\\\n",
    "\\frac{1}{ e^{-(\\beta_0 +\\beta_1 X)} + 1} &= p\\\\\n",
    "p(X) &= \\frac{1}{1 + e^{-(\\beta_0 +\\beta_1 X)}}\n",
    "\\end{align}\n",
    "$$"
   ]
  },
  {
   "cell_type": "markdown",
   "id": "9927eda7-9f63-4271-bcca-cb96418b66f3",
   "metadata": {},
   "source": [
    "Thus performing linear regression on the log-odds is equivalent to fitting a logistic function to the data.\n",
    "- The function $p(x) = \\frac{1}{1+e^{-x}}$ is called a *sigmoid* function."
   ]
  },
  {
   "cell_type": "code",
   "execution_count": 13,
   "id": "a342b475-c5ef-4df0-bf6a-08483d8ce408",
   "metadata": {},
   "outputs": [
    {
     "data": {
      "image/png": "[encoded data removed]",
      "text/plain": [
       "<Figure size 432x288 with 1 Axes>"
      ]
     },
     "metadata": {
      "needs_background": "light"
     },
     "output_type": "display_data"
    }
   ],
   "source": [
    "x = np.linspace(-10, 10, 200)\n",
    "p = 1/(1 + np.exp(-x))\n",
    "plt.plot(x, p)\n",
    "plt.show()"
   ]
  },
  {
   "cell_type": "code",
   "execution_count": 14,
   "id": "32069c80-e9cb-4342-8ace-d213ad167ff9",
   "metadata": {},
   "outputs": [
    {
     "data": {
      "image/png": "[encoded data removed]",
      "text/plain": [
       "<Figure size 432x288 with 1 Axes>"
      ]
     },
     "metadata": {
      "needs_background": "light"
     },
     "output_type": "display_data"
    },
    {
     "data": {
      "image/png": "[encoded data removed]",
      "text/plain": [
       "<Figure size 432x288 with 1 Axes>"
      ]
     },
     "metadata": {
      "needs_background": "light"
     },
     "output_type": "display_data"
    }
   ],
   "source": [
    "plt.scatter(x=df_college['outstate'], y=df_college['is_private'])\n",
    "\n",
    "# logistic model\n",
    "x = np.linspace(0, 20000, 10000)\n",
    "p = 1/(1 + np.exp(-((1/1000)*x-8)))\n",
    "plt.plot(x, p)\n",
    "plt.show()\n",
    "\n",
    "# scatter plot\n",
    "plt.scatter(x=ct['midpoints'], y=ct['freq'])\n",
    "plt.plot(x, p)\n",
    "plt.show()"
   ]
  },
  {
   "cell_type": "markdown",
   "id": "44bf68fa-8e9e-4c33-95e5-5e00894a0ca7",
   "metadata": {},
   "source": [
    "You can see here that the logistic model is estimating the probability values of the target variable with respect to the input variable."
   ]
  },
  {
   "cell_type": "markdown",
   "id": "d6bcabe4-280c-42af-b4ba-243f92a49e1f",
   "metadata": {},
   "source": [
    "- What is missing here before we can fit the model?\n",
    "\n",
    "### Likelihood\n",
    "\n",
    "- For our probability function and an observation $(x_i, y_i)$: What is the likelihood of $(x_i, y_i)$ occuring with the probability function $p(X)$?\n",
    "- Note here $y_i = 0$ OR $y_i = 1$.\n",
    "\n",
    "$$\n",
    "\\mathcal{L}(\\beta_0, \\beta_1) = p(x_i)^{y_i}(1-p(x_i))^{1-y_i}\n",
    "$$\n",
    "\n",
    "- We want to maximize the likelihood function!\n",
    "- This is equivalent to maximizing the **log-likelihood** function:\n",
    "\n",
    "$$\n",
    "\\mathcal{l}(\\beta_0, \\beta_1) = \\log(p(x_i)^{y_i}(1-p(x_i))^{1-y_i}) = y_i\\log(p(x_i)) + (1-y_i)\\log(1-p(x_i))\n",
    "$$\n",
    "\n",
    "In turn this is equivalent to *minimizing* the negative log-likelihood function:\n",
    "\n",
    "$$\n",
    "-\\mathcal{l}(\\beta_0, \\beta_1) = -y_i\\log(p(\\beta_0, \\beta_1, x_i))) - (1-y_i)\\log(1-p(\\beta_0, \\beta_1, x_i)\n",
    "$$\n",
    "\n",
    "- Note the inclusion of $\\beta_0, \\beta_1$ in the $p$ function.\n",
    "\n",
    "For many observations we arrive at\n",
    "\n",
    "$$\n",
    "-\\mathcal{l}(\\beta_0, \\beta_1) = \\sum_{i=1}^N -y_i\\log(p(\\beta_0, \\beta_1, x_i))) - (1-y_i)\\log(1-p(\\beta_0, \\beta_1, x_i)\n",
    "$$"
   ]
  },
  {
   "cell_type": "markdown",
   "id": "19d9ee59-90fa-4119-ac66-f18ab80c8e34",
   "metadata": {},
   "source": [
    "### Summary\n",
    "\n",
    "Given $N$ data points $(x_i, y_i)$, find parameters $\\beta_0, \\beta_1$ for the model\n",
    "$$\n",
    "p(X) = \\frac{1}{1 + e^{-(\\beta_0 +\\beta_1 X)}}\n",
    "$$\n",
    "that minimize the loss function\n",
    "$$\n",
    "L(\\beta_0,\\beta_1) = -\\left(\\sum_{i=1}^N y_i\\log(p) + (1-y_i)\\log(1-p)\\right)\n",
    "$$"
   ]
  },
  {
   "cell_type": "code",
   "execution_count": 15,
   "id": "9cb5c761-f0c8-4478-ae0b-46744e49b231",
   "metadata": {},
   "outputs": [
    {
     "name": "stdout",
     "output_type": "stream",
     "text": [
      "Optimization terminated successfully.\n",
      "         Current function value: 0.369942\n",
      "         Iterations 8\n"
     ]
    },
    {
     "data": {
      "text/html": [
       "<table class=\"simpletable\">\n",
       "<caption>Logit Regression Results</caption>\n",
       "<tr>\n",
       "  <th>Dep. Variable:</th>      <td>is_private</td>    <th>  No. Observations:  </th>  <td>   777</td>  \n",
       "</tr>\n",
       "<tr>\n",
       "  <th>Model:</th>                 <td>Logit</td>      <th>  Df Residuals:      </th>  <td>   775</td>  \n",
       "</tr>\n",
       "<tr>\n",
       "  <th>Method:</th>                 <td>MLE</td>       <th>  Df Model:          </th>  <td>     1</td>  \n",
       "</tr>\n",
       "<tr>\n",
       "  <th>Date:</th>            <td>Mon, 28 Feb 2022</td> <th>  Pseudo R-squ.:     </th>  <td>0.3688</td>  \n",
       "</tr>\n",
       "<tr>\n",
       "  <th>Time:</th>                <td>19:42:08</td>     <th>  Log-Likelihood:    </th> <td> -287.45</td> \n",
       "</tr>\n",
       "<tr>\n",
       "  <th>converged:</th>             <td>True</td>       <th>  LL-Null:           </th> <td> -455.37</td> \n",
       "</tr>\n",
       "<tr>\n",
       "  <th>Covariance Type:</th>     <td>nonrobust</td>    <th>  LLR p-value:       </th> <td>5.093e-75</td>\n",
       "</tr>\n",
       "</table>\n",
       "<table class=\"simpletable\">\n",
       "<tr>\n",
       "      <td></td>         <th>coef</th>     <th>std err</th>      <th>z</th>      <th>P>|z|</th>  <th>[0.025</th>    <th>0.975]</th>  \n",
       "</tr>\n",
       "<tr>\n",
       "  <th>Intercept</th> <td>   -4.5221</td> <td>    0.409</td> <td>  -11.045</td> <td> 0.000</td> <td>   -5.325</td> <td>   -3.720</td>\n",
       "</tr>\n",
       "<tr>\n",
       "  <th>outstate</th>  <td>    0.0006</td> <td> 4.96e-05</td> <td>   12.579</td> <td> 0.000</td> <td>    0.001</td> <td>    0.001</td>\n",
       "</tr>\n",
       "</table>"
      ],
      "text/plain": [
       "<class 'statsmodels.iolib.summary.Summary'>\n",
       "\"\"\"\n",
       "                           Logit Regression Results                           \n",
       "==============================================================================\n",
       "Dep. Variable:             is_private   No. Observations:                  777\n",
       "Model:                          Logit   Df Residuals:                      775\n",
       "Method:                           MLE   Df Model:                            1\n",
       "Date:                Mon, 28 Feb 2022   Pseudo R-squ.:                  0.3688\n",
       "Time:                        19:42:08   Log-Likelihood:                -287.45\n",
       "converged:                       True   LL-Null:                       -455.37\n",
       "Covariance Type:            nonrobust   LLR p-value:                 5.093e-75\n",
       "==============================================================================\n",
       "                 coef    std err          z      P>|z|      [0.025      0.975]\n",
       "------------------------------------------------------------------------------\n",
       "Intercept     -4.5221      0.409    -11.045      0.000      -5.325      -3.720\n",
       "outstate       0.0006   4.96e-05     12.579      0.000       0.001       0.001\n",
       "==============================================================================\n",
       "\"\"\""
      ]
     },
     "execution_count": 15,
     "metadata": {},
     "output_type": "execute_result"
    }
   ],
   "source": [
    "from statsmodels.formula.api import logit\n",
    "\n",
    "model = logit(formula = 'is_private ~ outstate', data=df_college)\n",
    "res = model.fit()\n",
    "res.summary()"
   ]
  },
  {
   "cell_type": "code",
   "execution_count": 16,
   "id": "eeb4919a-41c9-475f-b30f-5257fc61a843",
   "metadata": {},
   "outputs": [
    {
     "data": {
      "image/png": "[encoded data removed]",
      "text/plain": [
       "<Figure size 432x288 with 1 Axes>"
      ]
     },
     "metadata": {
      "needs_background": "light"
     },
     "output_type": "display_data"
    }
   ],
   "source": [
    "b0, b1 = res.params\n",
    "\n",
    "# plot the model against the 0-1 values\n",
    "plt.scatter(x=df_college['outstate'], y=df_college['is_private'])\n",
    "\n",
    "x = np.linspace(0, 20000, 10000)\n",
    "p = 1/(1 + np.exp(-(b1*x+b0)))\n",
    "plt.plot(x, p)\n",
    "\n",
    "plt.show()"
   ]
  },
  {
   "cell_type": "code",
   "execution_count": 17,
   "id": "77c018d5-972e-4da6-8174-230092566a60",
   "metadata": {},
   "outputs": [
    {
     "data": {
      "image/png": "[encoded data removed]",
      "text/plain": [
       "<Figure size 432x288 with 1 Axes>"
      ]
     },
     "metadata": {
      "needs_background": "light"
     },
     "output_type": "display_data"
    }
   ],
   "source": [
    "# plot the model against the estimated probabilities\n",
    "plt.scatter(x=ct['midpoints'], y=ct['freq'])\n",
    "plt.plot(x, p)\n",
    "plt.show()"
   ]
  },
  {
   "cell_type": "code",
   "execution_count": 18,
   "id": "eedc8cb1-047e-47af-95e8-1b16373f117c",
   "metadata": {},
   "outputs": [
    {
     "data": {
      "image/png": "[encoded data removed]",
      "text/plain": [
       "<Figure size 360x360 with 1 Axes>"
      ]
     },
     "metadata": {
      "needs_background": "light"
     },
     "output_type": "display_data"
    }
   ],
   "source": [
    "# we can also use seaborn's lmplot again\n",
    "sns.lmplot(x=\"outstate\", logistic=True, y=\"is_private\", data=df_college)\n",
    "plt.show()"
   ]
  },
  {
   "cell_type": "markdown",
   "id": "04034022-997f-445d-8284-4c8f312367b2",
   "metadata": {},
   "source": [
    "### Classification Metrics\n",
    "- How do we turn our probability prediction into a binary prediction?\n",
    "- What does it mean to set a *threshold* of 0.5?"
   ]
  },
  {
   "cell_type": "code",
   "execution_count": 29,
   "id": "91f07dc4-da11-410b-bc49-f8a9847c49e4",
   "metadata": {},
   "outputs": [
    {
     "data": {
      "text/plain": [
       "0     0.529243\n",
       "1     0.958317\n",
       "2     0.923637\n",
       "3     0.972323\n",
       "4     0.547836\n",
       "5     0.980078\n",
       "6     0.977354\n",
       "7     0.984098\n",
       "8     0.994525\n",
       "9     0.881343\n",
       "10    0.996971\n",
       "11    0.997824\n",
       "12    0.820551\n",
       "13    0.965013\n",
       "14    0.665028\n",
       "15    0.711520\n",
       "16    0.999590\n",
       "17    0.855170\n",
       "18    0.846952\n",
       "19    0.210271\n",
       "dtype: float64"
      ]
     },
     "execution_count": 29,
     "metadata": {},
     "output_type": "execute_result"
    }
   ],
   "source": [
    "x = df_college['outstate']\n",
    "y = df_college['is_private']\n",
    "\n",
    "y_pred_prob = res.predict(x)\n",
    "y_pred_prob[:20]"
   ]
  },
  {
   "cell_type": "code",
   "execution_count": 36,
   "id": "c2acd4e5-359c-4c8c-8cac-8028c2cf98d2",
   "metadata": {},
   "outputs": [
    {
     "data": {
      "text/plain": [
       "0     1\n",
       "1     1\n",
       "2     1\n",
       "3     1\n",
       "4     1\n",
       "5     1\n",
       "6     1\n",
       "7     1\n",
       "8     1\n",
       "9     1\n",
       "10    1\n",
       "11    1\n",
       "12    1\n",
       "13    1\n",
       "14    1\n",
       "15    1\n",
       "16    1\n",
       "17    1\n",
       "18    1\n",
       "19    0\n",
       "dtype: int64"
      ]
     },
     "execution_count": 36,
     "metadata": {},
     "output_type": "execute_result"
    }
   ],
   "source": [
    "y_pred = (y_pred_prob >= 0.5).apply(int)\n",
    "y_pred[:20]"
   ]
  },
  {
   "cell_type": "code",
   "execution_count": 31,
   "id": "73a60404-a54c-4be1-8398-8bd015f3b6ad",
   "metadata": {},
   "outputs": [
    {
     "name": "stdout",
     "output_type": "stream",
     "text": [
      "The Accuracy of this model is 84.55598455598455%\n"
     ]
    }
   ],
   "source": [
    "# let's utilize sklearn's metrics package\n",
    "from sklearn import metrics\n",
    "\n",
    "acc = metrics.accuracy_score(y, y_pred)\n",
    "print(f'The Accuracy of this model is {100*acc}%')"
   ]
  },
  {
   "cell_type": "markdown",
   "id": "f9631c60-0863-4f9f-a575-32c7f5b5cfc5",
   "metadata": {},
   "source": [
    "Looks good... but how good is this really?"
   ]
  },
  {
   "cell_type": "code",
   "execution_count": 32,
   "id": "fb860c3b-fc88-478b-8345-0635a0a212d5",
   "metadata": {},
   "outputs": [
    {
     "name": "stdout",
     "output_type": "stream",
     "text": [
      "The Accuracy of always predicting private is 72.71557271557272%\n"
     ]
    }
   ],
   "source": [
    "y_all_ones = np.ones(len(y))\n",
    "\n",
    "acc = metrics.accuracy_score(y, y_all_ones)\n",
    "print(f'The Accuracy of always predicting private is {100*acc}%')"
   ]
  },
  {
   "cell_type": "markdown",
   "id": "d3276d22-6fba-4959-91d1-d2f5457e78b1",
   "metadata": {},
   "source": [
    "This is what we call an *imbalanced* dataset. There is not an even 50/50 split of private and public schools. To get a better idea of how our model is performing we can look at the **Confusion Matrix**"
   ]
  },
  {
   "cell_type": "code",
   "execution_count": 33,
   "id": "319d9518-ee7d-4016-a2d3-7f1bc03da4ce",
   "metadata": {},
   "outputs": [
    {
     "data": {
      "image/png": "[encoded data removed]",
      "text/plain": [
       "<Figure size 432x288 with 2 Axes>"
      ]
     },
     "metadata": {
      "needs_background": "light"
     },
     "output_type": "display_data"
    }
   ],
   "source": [
    "# build the confusion matrix\n",
    "cm = metrics.confusion_matrix(y, y_pred)\n",
    "# display it nicely\n",
    "disp = metrics.ConfusionMatrixDisplay(confusion_matrix=cm)\n",
    "disp.plot()\n",
    "plt.show()"
   ]
  },
  {
   "cell_type": "markdown",
   "id": "5c5ef682-6502-49eb-990f-905d0bd414e9",
   "metadata": {},
   "source": [
    "The bottom left corner are the number of False Negatives and the top right corner are the number of False Positive."
   ]
  },
  {
   "cell_type": "markdown",
   "id": "4c8b43e1-3a89-4cad-9966-50531a3db614",
   "metadata": {},
   "source": [
    "- The **Precision** measures how much we can trust the model's prediction of class 1:\n",
    "\n",
    "$$\n",
    "\\text{Precision }= \\frac{Correctly Predicted Positives}{All Predicted Positives}\n",
    "$$\n",
    "\n",
    "- The **Recall** measures how well the model \"finds\" all of class 1:\n",
    "\n",
    "$$\n",
    "\\text{Recall }= \\frac{Correctly Predicted Positives}{Total Positives}\n",
    "$$"
   ]
  },
  {
   "cell_type": "markdown",
   "id": "40ced214-dd90-4bfe-b7f5-12214ed5f8ca",
   "metadata": {},
   "source": [
    "What is the Precision and Recall above?"
   ]
  },
  {
   "cell_type": "code",
   "execution_count": 34,
   "id": "2b4e628c-c5ce-4a31-a6f6-4934bb0ae7d4",
   "metadata": {},
   "outputs": [
    {
     "name": "stdout",
     "output_type": "stream",
     "text": [
      "The Recall of this model is 0.8707964601769912\n",
      "The Precision of this model is 0.9128014842300557\n"
     ]
    }
   ],
   "source": [
    "recall = metrics.recall_score(y, y_pred)\n",
    "prec = metrics.precision_score(y, y_pred)\n",
    "\n",
    "print(f'The Recall of this model is {recall}')\n",
    "print(f'The Precision of this model is {prec}')"
   ]
  },
  {
   "cell_type": "code",
   "execution_count": 35,
   "id": "7b8701e4-bdfd-4d2c-b4e9-0c57aceabf4d",
   "metadata": {},
   "outputs": [
    {
     "name": "stdout",
     "output_type": "stream",
     "text": [
      "The Recall of the all ones model is 1.0\n",
      "The Precision of the all ones model is 0.7271557271557272\n"
     ]
    }
   ],
   "source": [
    "recall = metrics.recall_score(y, y_all_ones)\n",
    "prec = metrics.precision_score(y, y_all_ones)\n",
    "\n",
    "print(f'The Recall of the all ones model is {recall}')\n",
    "print(f'The Precision of the all ones model is {prec}')"
   ]
  },
  {
   "cell_type": "markdown",
   "id": "073ae3a1-b76e-48df-b3dc-a647eff70756",
   "metadata": {},
   "source": [
    "- Will changing the threshold of class 1 change the precision, recall, and accuracy?\n",
    "\n",
    "![img](https://upload.wikimedia.org/wikipedia/commons/3/36/ROC_space-2.png)"
   ]
  },
  {
   "cell_type": "code",
   "execution_count": 37,
   "id": "3c770a97-04ed-4210-a88d-d44d7af32e80",
   "metadata": {},
   "outputs": [],
   "source": [
    "# use the probability predictions to get the FPR and TPR for different thresholds\n",
    "FPR, TPR, thresholds = metrics.roc_curve(y, y_pred_prob)"
   ]
  },
  {
   "cell_type": "code",
   "execution_count": 38,
   "id": "ec29d1a5-2fb1-42bb-9fe4-8f52a9a77e84",
   "metadata": {},
   "outputs": [
    {
     "data": {
      "text/plain": [
       "(array([1.9998777 , 0.9998777 , 0.99948058, 0.99945402, 0.99935357,\n",
       "        0.99931244, 0.99921142, 0.9992065 , 0.9980278 , 0.99801796]),\n",
       " array([0.14830868, 0.14760122, 0.14619467, 0.14449065, 0.14341489,\n",
       "        0.14226971, 0.12974764, 0.12313708, 0.05149804, 0.04465989]))"
      ]
     },
     "execution_count": 38,
     "metadata": {},
     "output_type": "execute_result"
    }
   ],
   "source": [
    "thresholds[:10], thresholds[-10:]"
   ]
  },
  {
   "cell_type": "code",
   "execution_count": 39,
   "id": "2d888e50-97db-4f0c-bca7-6b707d49db80",
   "metadata": {},
   "outputs": [
    {
     "data": {
      "text/plain": [
       "(array([0., 0., 0., 0., 0., 0., 0., 0., 0., 0.]),\n",
       " array([0.87264151, 0.88207547, 0.89622642, 0.89622642, 0.9009434 ,\n",
       "        0.9009434 , 0.93396226, 0.94339623, 1.        , 1.        ]))"
      ]
     },
     "execution_count": 39,
     "metadata": {},
     "output_type": "execute_result"
    }
   ],
   "source": [
    "# does this make sense? Why?\n",
    "FPR[:10], FPR[-10:]"
   ]
  },
  {
   "cell_type": "code",
   "execution_count": 40,
   "id": "799f05be-4507-4be2-866d-56472ddf4d00",
   "metadata": {},
   "outputs": [
    {
     "data": {
      "image/png": "[encoded data removed]",
      "text/plain": [
       "<Figure size 432x288 with 1 Axes>"
      ]
     },
     "metadata": {
      "needs_background": "light"
     },
     "output_type": "display_data"
    }
   ],
   "source": [
    "plt.plot(FPR, TPR)\n",
    "plt.title('Receiver Operating Charactertistic Curve (ROC)')\n",
    "plt.show()"
   ]
  },
  {
   "cell_type": "markdown",
   "id": "3e1924d8-1ff7-4698-92b8-a4d0c5f3deb7",
   "metadata": {},
   "source": [
    "To get a single value, people often use the **A**rea **U**nder the **C**urve (AUC)."
   ]
  },
  {
   "cell_type": "code",
   "execution_count": 41,
   "id": "400f7090-3fad-45c9-8685-f1a51546cd25",
   "metadata": {},
   "outputs": [
    {
     "name": "stdout",
     "output_type": "stream",
     "text": [
      "The AUC of this model is 0.889163466354984\n"
     ]
    }
   ],
   "source": [
    "auc = metrics.roc_auc_score(y, y_pred_prob)\n",
    "print(f'The AUC of this model is {auc}')"
   ]
  },
  {
   "cell_type": "markdown",
   "id": "c292398d-0c04-4459-9c2e-6627547800b9",
   "metadata": {},
   "source": [
    "- What is the AUC of randomly guessing?"
   ]
  },
  {
   "cell_type": "markdown",
   "id": "2c21e81c-a512-490a-8e82-b3e9548abef3",
   "metadata": {},
   "source": [
    "### Multiple independent variables\n",
    "\n",
    "- Generalized Linear Models\n",
    "\n",
    "**Example (2 indep.):**\n",
    "\n",
    "Given $N$ data points $((x_1)_i, (x_2)_i, y_i)$, find parameters $\\beta_0, \\beta_1, \\beta_2$ for the model\n",
    "$$\n",
    "p(X) = \\frac{1}{1 + e^{-(\\beta_0 +\\beta_1 X_1 + \\beta_2 X_2)}}\n",
    "$$\n",
    "that minimize the loss function\n",
    "$$\n",
    "L(\\beta_0,\\beta_1, \\beta_2) = -\\left(\\sum_{i=1}^N y_i\\log(p) + (1-y_i)\\log(1-p)\\right)\n",
    "$$"
   ]
  },
  {
   "cell_type": "code",
   "execution_count": 44,
   "id": "c5568c52-c6b9-4f9c-a7f3-0f5da3028df2",
   "metadata": {},
   "outputs": [
    {
     "name": "stdout",
     "output_type": "stream",
     "text": [
      "Optimization terminated successfully.\n",
      "         Current function value: 0.348524\n",
      "         Iterations 8\n"
     ]
    },
    {
     "data": {
      "text/html": [
       "<table class=\"simpletable\">\n",
       "<caption>Logit Regression Results</caption>\n",
       "<tr>\n",
       "  <th>Dep. Variable:</th>      <td>is_private</td>    <th>  No. Observations:  </th>  <td>   777</td>  \n",
       "</tr>\n",
       "<tr>\n",
       "  <th>Model:</th>                 <td>Logit</td>      <th>  Df Residuals:      </th>  <td>   774</td>  \n",
       "</tr>\n",
       "<tr>\n",
       "  <th>Method:</th>                 <td>MLE</td>       <th>  Df Model:          </th>  <td>     2</td>  \n",
       "</tr>\n",
       "<tr>\n",
       "  <th>Date:</th>            <td>Mon, 28 Feb 2022</td> <th>  Pseudo R-squ.:     </th>  <td>0.4053</td>  \n",
       "</tr>\n",
       "<tr>\n",
       "  <th>Time:</th>                <td>20:39:06</td>     <th>  Log-Likelihood:    </th> <td> -270.80</td> \n",
       "</tr>\n",
       "<tr>\n",
       "  <th>converged:</th>             <td>True</td>       <th>  LL-Null:           </th> <td> -455.37</td> \n",
       "</tr>\n",
       "<tr>\n",
       "  <th>Covariance Type:</th>     <td>nonrobust</td>    <th>  LLR p-value:       </th> <td>6.947e-81</td>\n",
       "</tr>\n",
       "</table>\n",
       "<table class=\"simpletable\">\n",
       "<tr>\n",
       "      <td></td>         <th>coef</th>     <th>std err</th>      <th>z</th>      <th>P>|z|</th>  <th>[0.025</th>    <th>0.975]</th>  \n",
       "</tr>\n",
       "<tr>\n",
       "  <th>Intercept</th> <td>   -1.1404</td> <td>    0.715</td> <td>   -1.595</td> <td> 0.111</td> <td>   -2.541</td> <td>    0.261</td>\n",
       "</tr>\n",
       "<tr>\n",
       "  <th>outstate</th>  <td>    0.0005</td> <td> 5.14e-05</td> <td>   10.545</td> <td> 0.000</td> <td>    0.000</td> <td>    0.001</td>\n",
       "</tr>\n",
       "<tr>\n",
       "  <th>s_f_ratio</th> <td>   -0.1758</td> <td>    0.032</td> <td>   -5.437</td> <td> 0.000</td> <td>   -0.239</td> <td>   -0.112</td>\n",
       "</tr>\n",
       "</table>"
      ],
      "text/plain": [
       "<class 'statsmodels.iolib.summary.Summary'>\n",
       "\"\"\"\n",
       "                           Logit Regression Results                           \n",
       "==============================================================================\n",
       "Dep. Variable:             is_private   No. Observations:                  777\n",
       "Model:                          Logit   Df Residuals:                      774\n",
       "Method:                           MLE   Df Model:                            2\n",
       "Date:                Mon, 28 Feb 2022   Pseudo R-squ.:                  0.4053\n",
       "Time:                        20:39:06   Log-Likelihood:                -270.80\n",
       "converged:                       True   LL-Null:                       -455.37\n",
       "Covariance Type:            nonrobust   LLR p-value:                 6.947e-81\n",
       "==============================================================================\n",
       "                 coef    std err          z      P>|z|      [0.025      0.975]\n",
       "------------------------------------------------------------------------------\n",
       "Intercept     -1.1404      0.715     -1.595      0.111      -2.541       0.261\n",
       "outstate       0.0005   5.14e-05     10.545      0.000       0.000       0.001\n",
       "s_f_ratio     -0.1758      0.032     -5.437      0.000      -0.239      -0.112\n",
       "==============================================================================\n",
       "\"\"\""
      ]
     },
     "execution_count": 44,
     "metadata": {},
     "output_type": "execute_result"
    }
   ],
   "source": [
    "model = logit(formula = 'is_private ~ outstate + s_f_ratio', data=df_college)\n",
    "res = model.fit()\n",
    "res.summary()"
   ]
  },
  {
   "cell_type": "code",
   "execution_count": 43,
   "id": "a108dcb7-1e1d-42ee-8c89-24c9e5dab3d2",
   "metadata": {},
   "outputs": [
    {
     "data": {
      "image/png": "[encoded data removed]",
      "text/plain": [
       "<Figure size 432x288 with 1 Axes>"
      ]
     },
     "metadata": {
      "needs_background": "light"
     },
     "output_type": "display_data"
    }
   ],
   "source": [
    "sns.scatterplot(x='outstate', y = 's_f_ratio', hue='is_private', data=df_college)\n",
    "plt.show()"
   ]
  },
  {
   "cell_type": "markdown",
   "id": "809b4127-dd1d-4b7a-b587-b5ec535e587a",
   "metadata": {},
   "source": [
    "The **Decision Boundary** is the boundary between the model predicting class 0 and class 1\n",
    "\n",
    "$$\n",
    "p(X) = \\frac{1}{1 + e^{-(\\beta_0 +\\beta_1 X_1 + \\beta_2 X_2)}}=0.5\n",
    "$$\n",
    "\n",
    "equivalent to\n",
    "\n",
    "$$\n",
    "\\beta_0 +\\beta_1 X_1 + \\beta_2 X_2 = 0\\\\\n",
    "X_2 = -\\frac{\\beta_1}{\\beta_2}X_1 - \\frac{\\beta_0}{\\beta_2}\n",
    "$$"
   ]
  },
  {
   "cell_type": "code",
   "execution_count": 45,
   "id": "51c23ff1-484b-4dba-bd39-e5b18f1e1905",
   "metadata": {},
   "outputs": [
    {
     "data": {
      "image/png": "[encoded data removed]",
      "text/plain": [
       "<Figure size 432x288 with 1 Axes>"
      ]
     },
     "metadata": {
      "needs_background": "light"
     },
     "output_type": "display_data"
    }
   ],
   "source": [
    "sns.scatterplot(x='outstate', y = 's_f_ratio', hue='is_private', data=df_college)\n",
    "\n",
    "b0, b1, b2 = res.params\n",
    "plt.axline((0,-b0/b2), slope=(-b1/b2), color='green', linestyle='--')\n",
    "\n",
    "plt.show()"
   ]
  },
  {
   "cell_type": "markdown",
   "id": "2f01434c-174e-42fd-bfaa-9f5d0eae7923",
   "metadata": {},
   "source": [
    "Let's what we learned about validation sets to evaluate this model."
   ]
  },
  {
   "cell_type": "code",
   "execution_count": 46,
   "id": "63fe0aaf-29ed-4f45-bf17-94b688291f57",
   "metadata": {},
   "outputs": [],
   "source": [
    "train, val = train_test_split(df_college, test_size=0.2)"
   ]
  },
  {
   "cell_type": "code",
   "execution_count": 47,
   "id": "e1b0a8df-49b3-44a7-b228-d46e632e9f38",
   "metadata": {},
   "outputs": [
    {
     "name": "stdout",
     "output_type": "stream",
     "text": [
      "Optimization terminated successfully.\n",
      "         Current function value: 0.345285\n",
      "         Iterations 8\n",
      "The Accuracy of the model on the validation set is 0.8525641025641025\n",
      "The Recall of the model on the validation set is 0.9\n",
      "The Precision of the model on the validation set is 0.8918918918918919\n"
     ]
    }
   ],
   "source": [
    "model = logit(formula = 'is_private ~ outstate + s_f_ratio', data=train)\n",
    "res = model.fit()\n",
    "\n",
    "x = val[['outstate', 's_f_ratio']]\n",
    "y = val['is_private']\n",
    "\n",
    "y_pred_prob = res.predict(x)\n",
    "y_pred = (y_pred_prob >= 0.5).apply(int)\n",
    "\n",
    "acc = metrics.accuracy_score(y, y_pred)\n",
    "recall = metrics.recall_score(y, y_pred)\n",
    "prec = metrics.precision_score(y, y_pred)\n",
    "\n",
    "print(f'The Accuracy of the model on the validation set is {acc}')\n",
    "print(f'The Recall of the model on the validation set is {recall}')\n",
    "print(f'The Precision of the model on the validation set is {prec}')"
   ]
  },
  {
   "cell_type": "code",
   "execution_count": 48,
   "id": "f4838099-e20b-4923-8ca0-eea1fad01fe6",
   "metadata": {},
   "outputs": [
    {
     "name": "stdout",
     "output_type": "stream",
     "text": [
      "The Accuracy of the model on the train set is 0.855072463768116\n",
      "The Recall of the model on the train set is 0.9120879120879121\n",
      "The Precision of the model on the train set is 0.8924731182795699\n"
     ]
    }
   ],
   "source": [
    "x = train[['outstate', 's_f_ratio']]\n",
    "y = train['is_private']\n",
    "\n",
    "y_pred_prob = res.predict(x)\n",
    "y_pred = (y_pred_prob >= 0.5).apply(int)\n",
    "\n",
    "acc = metrics.accuracy_score(y, y_pred)\n",
    "recall = metrics.recall_score(y, y_pred)\n",
    "prec = metrics.precision_score(y, y_pred)\n",
    "\n",
    "print(f'The Accuracy of the model on the train set is {acc}')\n",
    "print(f'The Recall of the model on the train set is {recall}')\n",
    "print(f'The Precision of the model on the train set is {prec}')"
   ]
  },
  {
   "cell_type": "markdown",
   "id": "ed53d7d6-d16d-4aeb-bd82-55e523f2aded",
   "metadata": {},
   "source": [
    "### Imbalanced Classification\n",
    "\n",
    "Recall that this dataset is *imbalanced* meaning that there are more class 1 than class 0 datapoints.\n",
    "- Why might this cause issues during model development?\n",
    "- What if there are differences between class balance from train to validation to test?"
   ]
  },
  {
   "cell_type": "code",
   "execution_count": 49,
   "id": "fb10cf57-964e-4b51-8488-c69d8a3a009a",
   "metadata": {},
   "outputs": [
    {
     "data": {
      "text/plain": [
       "(0.7326892109500805, 0.7051282051282052)"
      ]
     },
     "execution_count": 49,
     "metadata": {},
     "output_type": "execute_result"
    }
   ],
   "source": [
    "sum(train['is_private']) / len(train), sum(val['is_private']) / len(val)"
   ]
  },
  {
   "cell_type": "code",
   "execution_count": 50,
   "id": "b402bdbb-c430-4428-abb4-7cbd193ca955",
   "metadata": {},
   "outputs": [],
   "source": [
    "train, val = train_test_split(df_college, test_size=0.1, stratify=df_college[['is_private']])"
   ]
  },
  {
   "cell_type": "code",
   "execution_count": 51,
   "id": "a0ac4015-60d8-48ac-8f30-c53605a9d11a",
   "metadata": {},
   "outputs": [
    {
     "data": {
      "text/plain": [
       "(0.7267525035765379, 0.7307692307692307)"
      ]
     },
     "execution_count": 51,
     "metadata": {},
     "output_type": "execute_result"
    }
   ],
   "source": [
    "sum(train['is_private']) / len(train), sum(val['is_private']) / len(val)"
   ]
  },
  {
   "cell_type": "markdown",
   "id": "69043011-ce46-454b-8793-5bdaf1bc5ba8",
   "metadata": {},
   "source": [
    "Some Techniques\n",
    "- Under/Over-sampling\n",
    "- Weighting the loss function"
   ]
  },
  {
   "cell_type": "code",
   "execution_count": 52,
   "id": "3461e19b-3e91-4795-881a-0e797ff17f5f",
   "metadata": {},
   "outputs": [
    {
     "data": {
      "text/plain": [
       "(565, 212)"
      ]
     },
     "execution_count": 52,
     "metadata": {},
     "output_type": "execute_result"
    }
   ],
   "source": [
    "sum(df_college['is_private']), sum(-((df_college['is_private'])-1))"
   ]
  },
  {
   "cell_type": "code",
   "execution_count": 53,
   "id": "942ba4c2-aef4-40ed-8365-607f5815fabe",
   "metadata": {},
   "outputs": [
    {
     "data": {
      "text/html": [
       "<div>\n",
       "<style scoped>\n",
       "    .dataframe tbody tr th:only-of-type {\n",
       "        vertical-align: middle;\n",
       "    }\n",
       "\n",
       "    .dataframe tbody tr th {\n",
       "        vertical-align: top;\n",
       "    }\n",
       "\n",
       "    .dataframe thead th {\n",
       "        text-align: right;\n",
       "    }\n",
       "</style>\n",
       "<table border=\"1\" class=\"dataframe\">\n",
       "  <thead>\n",
       "    <tr style=\"text-align: right;\">\n",
       "      <th></th>\n",
       "      <th>private</th>\n",
       "      <th>apps</th>\n",
       "      <th>accept</th>\n",
       "      <th>enroll</th>\n",
       "      <th>top10perc</th>\n",
       "      <th>top25perc</th>\n",
       "      <th>f_undergrad</th>\n",
       "      <th>p_undergrad</th>\n",
       "      <th>outstate</th>\n",
       "      <th>room_board</th>\n",
       "      <th>books</th>\n",
       "      <th>personal</th>\n",
       "      <th>phd</th>\n",
       "      <th>terminal</th>\n",
       "      <th>s_f_ratio</th>\n",
       "      <th>perc_alumni</th>\n",
       "      <th>expend</th>\n",
       "      <th>grad_rate</th>\n",
       "      <th>is_private</th>\n",
       "    </tr>\n",
       "  </thead>\n",
       "  <tbody>\n",
       "    <tr>\n",
       "      <th>427</th>\n",
       "      <td>No</td>\n",
       "      <td>3041</td>\n",
       "      <td>2581</td>\n",
       "      <td>1173</td>\n",
       "      <td>16</td>\n",
       "      <td>56</td>\n",
       "      <td>6441</td>\n",
       "      <td>3982</td>\n",
       "      <td>9114</td>\n",
       "      <td>4030</td>\n",
       "      <td>400</td>\n",
       "      <td>650</td>\n",
       "      <td>88</td>\n",
       "      <td>90</td>\n",
       "      <td>19.7</td>\n",
       "      <td>13</td>\n",
       "      <td>6637</td>\n",
       "      <td>53</td>\n",
       "      <td>0</td>\n",
       "    </tr>\n",
       "    <tr>\n",
       "      <th>632</th>\n",
       "      <td>No</td>\n",
       "      <td>4269</td>\n",
       "      <td>2594</td>\n",
       "      <td>985</td>\n",
       "      <td>27</td>\n",
       "      <td>57</td>\n",
       "      <td>6476</td>\n",
       "      <td>2592</td>\n",
       "      <td>8594</td>\n",
       "      <td>4408</td>\n",
       "      <td>494</td>\n",
       "      <td>2768</td>\n",
       "      <td>82</td>\n",
       "      <td>88</td>\n",
       "      <td>18.4</td>\n",
       "      <td>6</td>\n",
       "      <td>7618</td>\n",
       "      <td>55</td>\n",
       "      <td>0</td>\n",
       "    </tr>\n",
       "    <tr>\n",
       "      <th>165</th>\n",
       "      <td>No</td>\n",
       "      <td>434</td>\n",
       "      <td>412</td>\n",
       "      <td>319</td>\n",
       "      <td>10</td>\n",
       "      <td>30</td>\n",
       "      <td>1376</td>\n",
       "      <td>237</td>\n",
       "      <td>4486</td>\n",
       "      <td>2146</td>\n",
       "      <td>600</td>\n",
       "      <td>2000</td>\n",
       "      <td>50</td>\n",
       "      <td>64</td>\n",
       "      <td>16.5</td>\n",
       "      <td>28</td>\n",
       "      <td>4525</td>\n",
       "      <td>46</td>\n",
       "      <td>0</td>\n",
       "    </tr>\n",
       "    <tr>\n",
       "      <th>631</th>\n",
       "      <td>No</td>\n",
       "      <td>461</td>\n",
       "      <td>381</td>\n",
       "      <td>235</td>\n",
       "      <td>10</td>\n",
       "      <td>40</td>\n",
       "      <td>974</td>\n",
       "      <td>503</td>\n",
       "      <td>6600</td>\n",
       "      <td>3630</td>\n",
       "      <td>400</td>\n",
       "      <td>1675</td>\n",
       "      <td>67</td>\n",
       "      <td>67</td>\n",
       "      <td>15.2</td>\n",
       "      <td>11</td>\n",
       "      <td>6408</td>\n",
       "      <td>35</td>\n",
       "      <td>0</td>\n",
       "    </tr>\n",
       "    <tr>\n",
       "      <th>630</th>\n",
       "      <td>No</td>\n",
       "      <td>441</td>\n",
       "      <td>369</td>\n",
       "      <td>172</td>\n",
       "      <td>17</td>\n",
       "      <td>45</td>\n",
       "      <td>633</td>\n",
       "      <td>317</td>\n",
       "      <td>6600</td>\n",
       "      <td>3680</td>\n",
       "      <td>600</td>\n",
       "      <td>400</td>\n",
       "      <td>46</td>\n",
       "      <td>46</td>\n",
       "      <td>15.1</td>\n",
       "      <td>4</td>\n",
       "      <td>5935</td>\n",
       "      <td>64</td>\n",
       "      <td>0</td>\n",
       "    </tr>\n",
       "  </tbody>\n",
       "</table>\n",
       "</div>"
      ],
      "text/plain": [
       "    private  apps  accept  enroll  top10perc  top25perc  f_undergrad  \\\n",
       "427      No  3041    2581    1173         16         56         6441   \n",
       "632      No  4269    2594     985         27         57         6476   \n",
       "165      No   434     412     319         10         30         1376   \n",
       "631      No   461     381     235         10         40          974   \n",
       "630      No   441     369     172         17         45          633   \n",
       "\n",
       "     p_undergrad  outstate  room_board  books  personal  phd  terminal  \\\n",
       "427         3982      9114        4030    400       650   88        90   \n",
       "632         2592      8594        4408    494      2768   82        88   \n",
       "165          237      4486        2146    600      2000   50        64   \n",
       "631          503      6600        3630    400      1675   67        67   \n",
       "630          317      6600        3680    600       400   46        46   \n",
       "\n",
       "     s_f_ratio  perc_alumni  expend  grad_rate  is_private  \n",
       "427       19.7           13    6637         53           0  \n",
       "632       18.4            6    7618         55           0  \n",
       "165       16.5           28    4525         46           0  \n",
       "631       15.2           11    6408         35           0  \n",
       "630       15.1            4    5935         64           0  "
      ]
     },
     "execution_count": 53,
     "metadata": {},
     "output_type": "execute_result"
    }
   ],
   "source": [
    "df_college.sort_values('is_private').head()"
   ]
  },
  {
   "cell_type": "code",
   "execution_count": 54,
   "id": "dcb924ca-bc24-4736-adc7-458944e57304",
   "metadata": {},
   "outputs": [
    {
     "data": {
      "text/plain": [
       "(200, 200)"
      ]
     },
     "execution_count": 54,
     "metadata": {},
     "output_type": "execute_result"
    }
   ],
   "source": [
    "# under-sample\n",
    "df_public = df_college.sort_values('is_private')[:200]\n",
    "df_private = df_college.sort_values('is_private')[-200:]\n",
    "df = pd.concat((df_public, df_private))\n",
    "\n",
    "sum(df['is_private']), sum(-((df['is_private'])-1))"
   ]
  },
  {
   "cell_type": "code",
   "execution_count": 55,
   "id": "82f6b263-50ca-4412-816d-d2a86d0709b5",
   "metadata": {},
   "outputs": [
    {
     "data": {
      "text/plain": [
       "(565, 412)"
      ]
     },
     "execution_count": 55,
     "metadata": {},
     "output_type": "execute_result"
    }
   ],
   "source": [
    "# over-sample\n",
    "df_public = df_college.sort_values('is_private')[:200]\n",
    "df = pd.concat((df_college, df_public))\n",
    "\n",
    "sum(df['is_private']), sum(-((df['is_private'])-1))"
   ]
  },
  {
   "cell_type": "markdown",
   "id": "ca1f0070-905d-42a5-a75e-0c3dae452ed3",
   "metadata": {},
   "source": [
    "Let $w_i$ be the positive example weight\n",
    "\n",
    "$$\n",
    "L(\\beta_0,\\beta_1, \\beta_2) = -\\left(\\sum_{i=1}^N w_i y_i\\log(p) + (1-y_i)\\log(1-p)\\right)\n",
    "$$\n",
    "\n",
    "- What happens if $0 < w_i < 1$ or if $w_i > 1$?"
   ]
  },
  {
   "cell_type": "code",
   "execution_count": 65,
   "id": "bb724172-7026-426e-b8b0-1697a58ea7a4",
   "metadata": {},
   "outputs": [],
   "source": [
    "from sklearn.linear_model import LogisticRegression\n",
    "\n",
    "x = df_college[['outstate', 's_f_ratio']]\n",
    "y = df_college['is_private']\n",
    "\n",
    "model = LogisticRegression(class_weight={0: 1.0, 1: 10}, max_iter=400)\n",
    "model.fit(x,y)\n",
    "\n",
    "# 0,1 predictions\n",
    "y_pred = model.predict(x)\n",
    "\n",
    "# probability outputs\n",
    "y_pred_prob = model.predict_proba(x)[:,1]"
   ]
  },
  {
   "cell_type": "code",
   "execution_count": 66,
   "id": "7710ecf0-9c7e-4710-9198-791c7e578e17",
   "metadata": {},
   "outputs": [
    {
     "data": {
      "text/plain": [
       "(array([1, 1, 1, 1, 1, 1, 1, 1, 1, 1]),\n",
       " array([0.89425287, 0.99594345, 0.9922222 , 0.99831999, 0.94763111,\n",
       "        0.99849774, 0.99786435, 0.99802298, 0.99942414, 0.98972472]))"
      ]
     },
     "execution_count": 66,
     "metadata": {},
     "output_type": "execute_result"
    }
   ],
   "source": [
    "y_pred[:10], y_pred_prob[:10]"
   ]
  },
  {
   "cell_type": "code",
   "execution_count": 67,
   "id": "9e5865ac-721f-4fb3-8ad1-eb9c165306d1",
   "metadata": {},
   "outputs": [
    {
     "name": "stdout",
     "output_type": "stream",
     "text": [
      "The Accuracy of the model is 0.7425997425997426\n",
      "The Recall of the model is 0.9964601769911504\n",
      "The Precision of the model is 0.7398160315374507\n"
     ]
    }
   ],
   "source": [
    "acc = metrics.accuracy_score(y, y_pred)\n",
    "recall = metrics.recall_score(y, y_pred)\n",
    "prec = metrics.precision_score(y, y_pred)\n",
    "\n",
    "print(f'The Accuracy of the model is {acc}')\n",
    "print(f'The Recall of the model is {recall}')\n",
    "print(f'The Precision of the model is {prec}')"
   ]
  },
  {
   "cell_type": "markdown",
   "id": "36ea9d89-622f-4bd2-a39a-8054a245bbfb",
   "metadata": {},
   "source": [
    "Quiz3 Next Week:\n",
    "- Summary Above\n",
    "- Classification Metrics\n",
    "- Imbalanced Datasets"
   ]
  },
  {
   "cell_type": "code",
   "execution_count": null,
   "id": "fd5e7469-d856-4635-962c-78dfe4c54708",
   "metadata": {},
   "outputs": [],
   "source": []
  }
 ],
 "metadata": {
  "kernelspec": {
   "display_name": "Python 3",
   "language": "python",
   "name": "python3"
  },
  "language_info": {
   "codemirror_mode": {
    "name": "ipython",
    "version": 3
   },
   "file_extension": ".py",
   "mimetype": "text/x-python",
   "name": "python",
   "nbconvert_exporter": "python",
   "pygments_lexer": "ipython3",
   "version": "3.8.8"
  }
 },
 "nbformat": 4,
 "nbformat_minor": 5
}
