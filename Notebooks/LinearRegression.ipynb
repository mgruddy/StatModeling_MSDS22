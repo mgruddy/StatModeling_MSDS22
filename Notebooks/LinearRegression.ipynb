{
 "cells": [
  {
   "cell_type": "code",
   "execution_count": null,
   "id": "4e8b88da",
   "metadata": {},
   "outputs": [],
   "source": [
    "import pandas as pd\n",
    "import numpy as np\n",
    "import matplotlib.pyplot as plt\n",
    "import math\n",
    "import random"
   ]
  },
  {
   "cell_type": "markdown",
   "id": "4e5fafc7-0844-44ca-bd28-01dc4ce40510",
   "metadata": {},
   "source": [
    "## Linear Regression"
   ]
  },
  {
   "cell_type": "code",
   "execution_count": null,
   "id": "c96fc69b-42a1-4630-b1bf-7dfceb8d2da0",
   "metadata": {},
   "outputs": [],
   "source": [
    "# fuel efficiency dataset\n",
    "df_cars = pd.read_csv('https://raw.githubusercontent.com/mwaskom/seaborn-data/master/mpg.csv')\n",
    "\n",
    "#import seaborn as sns\n",
    "#df_cars = sns.load_dataset('mpg')\n",
    "\n",
    "df_cars.dropna(inplace=True)"
   ]
  },
  {
   "cell_type": "code",
   "execution_count": null,
   "id": "766e41f1-9b13-4653-8b60-45b5abd06365",
   "metadata": {},
   "outputs": [],
   "source": [
    "df_cars.head()"
   ]
  },
  {
   "cell_type": "markdown",
   "id": "8487c545-a8bb-430b-a58d-fc209934b571",
   "metadata": {},
   "source": [
    "Which variables might have a linear relationship? Which definitely do not?"
   ]
  },
  {
   "cell_type": "code",
   "execution_count": null,
   "id": "6283682b-4910-4307-8dc1-3e33ab4fdfa2",
   "metadata": {},
   "outputs": [],
   "source": [
    "# scatter plot"
   ]
  },
  {
   "cell_type": "code",
   "execution_count": null,
   "id": "e0f752b0-a3c3-4ddf-9768-7e81a3ffe5b6",
   "metadata": {},
   "outputs": [],
   "source": [
    "# try using seaborn's pairplot feature!"
   ]
  },
  {
   "cell_type": "code",
   "execution_count": null,
   "id": "8d80971a-94b3-4594-8b4e-22b86b493bfa",
   "metadata": {},
   "outputs": [],
   "source": [
    "plt.scatter(x=df_cars['weight'], y=df_cars['horsepower'])\n",
    "\n",
    "# pick out two random points\n",
    "idx1 = np.random.randint(low=1, high=len(df_cars)+1, size=1)\n",
    "idx2 = np.random.randint(low=1, high=len(df_cars)+1, size=1)\n",
    "\n",
    "# use .item() to get just the value not a Series object\n",
    "x1 = df_cars.loc[idx1, 'weight'].item()\n",
    "y1 = df_cars.loc[idx1, 'horsepower'].item()\n",
    "x2 = df_cars.loc[idx2, 'weight'].item()\n",
    "y2 = df_cars.loc[idx2, 'horsepower'].item()\n",
    "\n",
    "\n",
    "# plot a line through two points\n",
    "plt.axline((x1, y1), (x2, y2), color='green')\n",
    "\n",
    "plt.show()"
   ]
  },
  {
   "cell_type": "markdown",
   "id": "54a5c954-87f8-458b-9ed2-c6d09d66a81f",
   "metadata": {},
   "source": [
    "How can we decide how \"well\" a line fits our data? How about a particular datapoint?"
   ]
  },
  {
   "cell_type": "code",
   "execution_count": null,
   "id": "1df4a007-42bc-430b-8c1c-bdf93eca2721",
   "metadata": {
    "tags": []
   },
   "outputs": [],
   "source": [
    "# another random point\n",
    "idx3 = np.random.randint(low=1, high=len(df_cars)+1, size=1)\n",
    "\n",
    "# use .item() to get just the value not a Series object\n",
    "x3 = df_cars.loc[idx3, 'weight'].item()\n",
    "y3 = df_cars.loc[idx3, 'horsepower'].item()\n",
    "\n",
    "plt.scatter(x=x3, y=y3)\n",
    "\n",
    "plt.axline((x1, y1), (x2, y2), color='green')\n",
    "plt.show()"
   ]
  },
  {
   "cell_type": "markdown",
   "id": "c57ce9dd-0f19-41c5-bc8f-a694443bdd65",
   "metadata": {},
   "source": [
    "Denote our line as:\n",
    "\n",
    "$$\n",
    "Y = \\beta_0 + \\beta_1 X\n",
    "$$\n",
    "\n",
    "For a particular $(x,y)$ we denote the prediction as\n",
    "\n",
    "$$\n",
    "\\hat{y} = \\beta_0 + \\beta_1 x,\n",
    "$$\n",
    "\n",
    "and then the error between the true value and the prediction as\n",
    "\n",
    "$$\n",
    "(\\hat{y} - y)^2 = ((\\beta_0 + \\beta_1 x) - y)^2.\n",
    "$$"
   ]
  },
  {
   "cell_type": "code",
   "execution_count": null,
   "id": "499bce70-04a0-476a-a9c2-e3f497b14011",
   "metadata": {},
   "outputs": [],
   "source": [
    "plt.scatter(x=x3, y=y3)\n",
    "plt.axline((x1, y1), (x2, y2), color='green')\n",
    "\n",
    "# plot the prediction vs. the true value\n",
    "m = (y2 - y1) / (x2 - x1)\n",
    "y_pred = m * (x3 - x1) + y1\n",
    "plt.plot([x3,x3], [y3, y_pred], color='red')\n",
    "\n",
    "plt.show()"
   ]
  },
  {
   "cell_type": "markdown",
   "id": "c6600b4a-f925-4d5d-8216-a6ef715b65af",
   "metadata": {},
   "source": [
    "How would we get the error for the whole line?\n",
    "\n",
    "The **R**esidual **S**um of **S**quares for a particular line with coefficents $\\hat{\\beta}_0$ and $\\hat{\\beta}_1$:\n",
    "$$\n",
    "RSS = \\displaystyle \\sum_{i=1}^N(\\hat{y}_i-y_i)^2 = \\sum_{i=1}^N((\\hat{\\beta}_0+\\hat{\\beta}_1 x_i)-y_i)^2\n",
    "$$\n"
   ]
  },
  {
   "cell_type": "code",
   "execution_count": null,
   "id": "d501ce47-22d3-4825-95b4-f55543a19590",
   "metadata": {},
   "outputs": [],
   "source": []
  },
  {
   "cell_type": "code",
   "execution_count": null,
   "id": "0ebe699a-596b-4d55-aa61-24f8786aaed8",
   "metadata": {},
   "outputs": [],
   "source": [
    "# the error for this particular line\n",
    "\n",
    "def y_pred_line(x, m, b):\n",
    "    return m*x+b\n",
    "    \n",
    "m = (y2 - y1) / (x2 - x1)\n",
    "b = y1 - m * x1\n",
    "\n",
    "# zip lets us loop over two iterables\n",
    "sq_errors = []\n",
    "for x, y in zip(df_cars['weight'], df_cars['horsepower']):\n",
    "    sq_errors.append((y_pred_line(x, m, b) - y)**2)\n",
    "\n",
    "RSS = sum(sq_errors)\n",
    "RSS"
   ]
  },
  {
   "cell_type": "markdown",
   "id": "fce71291-a092-40a1-82dc-b1df27db0f70",
   "metadata": {},
   "source": [
    "Goal: Find $\\beta_0$ and $\\beta_1$ such that the $RSS$ is as small as possible.\n",
    "\n",
    "Let's bring in some back-up."
   ]
  },
  {
   "cell_type": "code",
   "execution_count": null,
   "id": "f2104ce3-9eed-487e-b8db-a40c437674d6",
   "metadata": {},
   "outputs": [],
   "source": [
    "import statsmodels.api as sm\n",
    "from statsmodels.formula.api import ols"
   ]
  },
  {
   "cell_type": "markdown",
   "id": "95efc107-ab11-4b97-ae9c-c8d083a476ae",
   "metadata": {},
   "source": [
    "```statsmodel``` is a nice package for statistical modeling. We'll import the ```ols``` or Ordinary Least Squares function.\n",
    "\n",
    "The dependent variable (or $Y$) appears on the left. It has to be a column from your data frame, in this case ```horsepower```. The ```~``` tells us that we are writing $Y$ as a function of the variables that come next. Since we're doing simple ```ols``` with only one independent predictor variable (or $X$), the next variable ```weight``` completes the model specification. Finally, we point to the dataframe we're using."
   ]
  },
  {
   "cell_type": "code",
   "execution_count": null,
   "id": "89e90a7d-f353-40e6-909b-6d1099b58fa8",
   "metadata": {},
   "outputs": [],
   "source": [
    "model = ols(formula = 'horsepower ~ weight', data=df_cars)"
   ]
  },
  {
   "cell_type": "code",
   "execution_count": null,
   "id": "93422725-38b5-45d4-9342-5c3771521001",
   "metadata": {},
   "outputs": [],
   "source": [
    "# fit the model after creating it\n",
    "res = model.fit()\n",
    "res.summary()"
   ]
  },
  {
   "cell_type": "markdown",
   "id": "e4132f3e-15d7-403e-9cd3-db65fa91a141",
   "metadata": {},
   "source": [
    "What is all of this?!\n",
    "- For now pay attention to the coefficients parameters.\n",
    "- How do we interpret them as a line? How about in non-statistical language?"
   ]
  },
  {
   "cell_type": "code",
   "execution_count": null,
   "id": "85e2ef04-5b7b-49c9-bdea-dd97cbc45d8c",
   "metadata": {},
   "outputs": [],
   "source": [
    "# seaborn also calculates and plots the linear regression line from OLS\n",
    "# the shaded region is a 95% confidence interval\n",
    "import seaborn as sns\n",
    "sns.lmplot(x='weight',y='horsepower',data=df_cars)"
   ]
  },
  {
   "cell_type": "code",
   "execution_count": null,
   "id": "cb12dc6c-381c-4fd9-ac3a-9849dbe1feac",
   "metadata": {},
   "outputs": [],
   "source": []
  }
 ],
 "metadata": {
  "kernelspec": {
   "display_name": "Python 3",
   "language": "python",
   "name": "python3"
  },
  "language_info": {
   "codemirror_mode": {
    "name": "ipython",
    "version": 3
   },
   "file_extension": ".py",
   "mimetype": "text/x-python",
   "name": "python",
   "nbconvert_exporter": "python",
   "pygments_lexer": "ipython3",
   "version": "3.8.8"
  }
 },
 "nbformat": 4,
 "nbformat_minor": 5
}
