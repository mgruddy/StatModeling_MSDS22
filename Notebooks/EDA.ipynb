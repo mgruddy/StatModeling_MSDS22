{
 "cells": [
  {
   "cell_type": "code",
   "execution_count": null,
   "id": "2bcc3985",
   "metadata": {},
   "outputs": [],
   "source": [
    "# we'll import these three packages\n",
    "\n",
    "import pandas as pd\n",
    "import numpy as np\n",
    "import matplotlib.pyplot as plt"
   ]
  },
  {
   "cell_type": "markdown",
   "id": "83e8ee3a",
   "metadata": {},
   "source": [
    "# pandas"
   ]
  },
  {
   "cell_type": "markdown",
   "id": "75d2fbe9",
   "metadata": {},
   "source": [
    "## Importing Data\n",
    "\n",
    "Usually tabular data is stored in csv files\n",
    "- **C**omma **S**eparated **V**alues\n",
    "- Can export Excel data as a csv file!"
   ]
  },
  {
   "cell_type": "code",
   "execution_count": null,
   "id": "dc651a01",
   "metadata": {},
   "outputs": [],
   "source": [
    "# read in a csv file using pandas\n",
    "df = pd.read_csv('data/marathon_results_2015.csv')"
   ]
  },
  {
   "cell_type": "code",
   "execution_count": null,
   "id": "05b79d4e",
   "metadata": {},
   "outputs": [],
   "source": [
    "# Who's that object???\n",
    "\n",
    "type(df)\n",
    "\n",
    "# It's a DataFrame!"
   ]
  },
  {
   "cell_type": "code",
   "execution_count": null,
   "id": "f309afd2",
   "metadata": {},
   "outputs": [],
   "source": [
    "# Jupyter (and other software that reads ipynb files) displays a df nicely\n",
    "df"
   ]
  },
  {
   "cell_type": "code",
   "execution_count": null,
   "id": "0be2e682",
   "metadata": {},
   "outputs": [],
   "source": [
    "# let's import a dataframe from the seaborn package\n",
    "import seaborn as sns\n",
    "\n",
    "df = sns.load_dataset('diamonds')\n",
    "\n",
    "# if you don't have seaborn you can use the following command to pull in the same data\n",
    "#df = pd.read_csv('https://raw.githubusercontent.com/mwaskom/seaborn-data/master/diamonds.csv')\n",
    "\n",
    "# see the first few rows\n",
    "df.head()"
   ]
  },
  {
   "cell_type": "code",
   "execution_count": null,
   "id": "69a932a4",
   "metadata": {},
   "outputs": [],
   "source": [
    "# see the last few rows\n",
    "df.tail()"
   ]
  },
  {
   "cell_type": "code",
   "execution_count": null,
   "id": "186dbe74",
   "metadata": {},
   "outputs": [],
   "source": [
    "# Just one!\n",
    "df.head(1)"
   ]
  },
  {
   "cell_type": "code",
   "execution_count": null,
   "id": "c9923552",
   "metadata": {},
   "outputs": [],
   "source": [
    "# let's learn some more about this data\n",
    "df.columns"
   ]
  },
  {
   "cell_type": "code",
   "execution_count": null,
   "id": "92a154c0",
   "metadata": {},
   "outputs": [],
   "source": [
    "df.index"
   ]
  },
  {
   "cell_type": "code",
   "execution_count": null,
   "id": "389705ae",
   "metadata": {},
   "outputs": [],
   "source": [
    "len(df)"
   ]
  },
  {
   "cell_type": "code",
   "execution_count": null,
   "id": "736af32e",
   "metadata": {},
   "outputs": [],
   "source": [
    "df.shape"
   ]
  },
  {
   "cell_type": "code",
   "execution_count": null,
   "id": "e277238b",
   "metadata": {},
   "outputs": [],
   "source": [
    "df.describe()"
   ]
  },
  {
   "cell_type": "code",
   "execution_count": null,
   "id": "93c0c85c",
   "metadata": {},
   "outputs": [],
   "source": [
    "# what datatype is each column?\n",
    "df.dtypes"
   ]
  },
  {
   "cell_type": "code",
   "execution_count": null,
   "id": "7cc1b697",
   "metadata": {},
   "outputs": [],
   "source": [
    "# we can create a dataframe from scratch in multiple ways\n",
    "\n",
    "# here's a dictionary where the dictionary keys are the column names\n",
    "# and the dictionary values are the column values\n",
    "\n",
    "# what do you notice here about the output?\n",
    "pd.DataFrame({\n",
    "                \"A\": 1.0,\n",
    "                \"B\": pd.Timestamp(\"20130102\"),\n",
    "                \"C\": pd.Series(1, index=list(range(4)), dtype=\"float32\"),\n",
    "                \"D\": np.array([3] * 4, dtype=\"int32\"),\n",
    "                \"E\": pd.Categorical([\"test\", \"train\", \"test\", \"train\"]),\n",
    "                \"F\": \"foo\",\n",
    "                })"
   ]
  },
  {
   "cell_type": "code",
   "execution_count": null,
   "id": "e3abc231",
   "metadata": {},
   "outputs": [],
   "source": [
    "# here's my favorite way\n",
    "\n",
    "# a list of rows\n",
    "rows = []\n",
    "\n",
    "colors = ['red', 'blue', 'green']\n",
    "\n",
    "for idx in range(5):\n",
    "    new_dict = dict()\n",
    "    new_dict['Student_Id'] = idx\n",
    "    new_dict['Student Name'] = f'John{idx}'\n",
    "    new_dict['Favorite Color'] = colors[idx % 3]\n",
    "    \n",
    "    # each row is a dictionary where the keys are the column names\n",
    "    # and the values are the row values\n",
    "    rows.append(new_dict)\n",
    "    \n",
    "pd.DataFrame(rows)"
   ]
  },
  {
   "cell_type": "markdown",
   "id": "c39d0fbf",
   "metadata": {},
   "source": [
    "## Selecting data from a DataFrame"
   ]
  },
  {
   "cell_type": "code",
   "execution_count": null,
   "id": "a53053e0",
   "metadata": {},
   "outputs": [],
   "source": [
    "# select a column\n",
    "df['carat']"
   ]
  },
  {
   "cell_type": "code",
   "execution_count": null,
   "id": "8e215b90",
   "metadata": {},
   "outputs": [],
   "source": [
    "type(df['carat'])"
   ]
  },
  {
   "cell_type": "code",
   "execution_count": null,
   "id": "3dfd1c39",
   "metadata": {
    "scrolled": true
   },
   "outputs": [],
   "source": [
    "# can slice like a list\n",
    "df[4:10]"
   ]
  },
  {
   "cell_type": "code",
   "execution_count": null,
   "id": "bd48961c",
   "metadata": {},
   "outputs": [],
   "source": [
    "# Use loc to get an individual rows/values\n",
    "df.loc[10]"
   ]
  },
  {
   "cell_type": "code",
   "execution_count": null,
   "id": "d3c4b30f",
   "metadata": {},
   "outputs": [],
   "source": [
    "df.loc[10, 'carat']"
   ]
  },
  {
   "cell_type": "code",
   "execution_count": null,
   "id": "ef890efb",
   "metadata": {},
   "outputs": [],
   "source": [
    "# can pass lists to loc\n",
    "df.loc[[1, 3, 5]]"
   ]
  },
  {
   "cell_type": "code",
   "execution_count": null,
   "id": "5da0b10a",
   "metadata": {},
   "outputs": [],
   "source": [
    "df.loc[[1, 3,5], ['carat', 'cut']]"
   ]
  },
  {
   "cell_type": "code",
   "execution_count": null,
   "id": "4beba7a9",
   "metadata": {},
   "outputs": [],
   "source": [
    "# can also use to slice\n",
    "df.loc[10:15]"
   ]
  },
  {
   "cell_type": "code",
   "execution_count": null,
   "id": "f2887a89",
   "metadata": {},
   "outputs": [],
   "source": [
    "# the method .iloc uses position\n",
    "df.iloc[10:15, 0:3]"
   ]
  },
  {
   "cell_type": "code",
   "execution_count": null,
   "id": "48a2c8ce",
   "metadata": {},
   "outputs": [],
   "source": [
    "small_df = df.iloc[5:20]\n",
    "# remember that these methods don't alter \"df\", but output a new DataFrame object\n",
    "small_df"
   ]
  },
  {
   "cell_type": "markdown",
   "id": "f01aa2fe",
   "metadata": {},
   "source": [
    "What is the difference between ```.loc[5]``` and ```.iloc[5]``` using ```small_df```? Why?"
   ]
  },
  {
   "cell_type": "code",
   "execution_count": null,
   "id": "4109d013",
   "metadata": {},
   "outputs": [],
   "source": [
    "small_df.iloc[5]"
   ]
  },
  {
   "cell_type": "code",
   "execution_count": null,
   "id": "14d478db",
   "metadata": {},
   "outputs": [],
   "source": [
    "# Boolean indexing\n",
    "df[ df['carat'] > 1.5 ]"
   ]
  },
  {
   "cell_type": "code",
   "execution_count": null,
   "id": "d6dd48ca",
   "metadata": {},
   "outputs": [],
   "source": [
    "# what is going on here?\n",
    "df['carat'] > 1.5"
   ]
  },
  {
   "cell_type": "markdown",
   "id": "315da2df",
   "metadata": {},
   "source": [
    "## Exploration"
   ]
  },
  {
   "cell_type": "code",
   "execution_count": null,
   "id": "0ed42355",
   "metadata": {},
   "outputs": [],
   "source": [
    "df = pd.read_csv('data/marathon_results_2015.csv')\n",
    "df"
   ]
  },
  {
   "cell_type": "code",
   "execution_count": null,
   "id": "983082ea",
   "metadata": {},
   "outputs": [],
   "source": [
    "# is a value missing?\n",
    "pd.isna(df.loc[0:10, ['Name']])"
   ]
  },
  {
   "cell_type": "code",
   "execution_count": null,
   "id": "0ec04e58",
   "metadata": {},
   "outputs": [],
   "source": [
    "# apply to whole dataframe\n",
    "df.isna()"
   ]
  },
  {
   "cell_type": "code",
   "execution_count": null,
   "id": "ac2750e1",
   "metadata": {},
   "outputs": [],
   "source": [
    "# sum each column\n",
    "# remember that F = 0, T = 1\n",
    "# what does the output mean?\n",
    "df.isna().sum()"
   ]
  },
  {
   "cell_type": "code",
   "execution_count": null,
   "id": "11608059",
   "metadata": {
    "scrolled": true
   },
   "outputs": [],
   "source": [
    "# drop rows with missing values\n",
    "df.dropna(axis=0)"
   ]
  },
  {
   "cell_type": "code",
   "execution_count": null,
   "id": "06ae8cbc",
   "metadata": {},
   "outputs": [],
   "source": [
    "# drop columns with missing values\n",
    "df.dropna(axis=1)"
   ]
  },
  {
   "cell_type": "code",
   "execution_count": null,
   "id": "54ac7968",
   "metadata": {},
   "outputs": [],
   "source": [
    "# nice built-in plotting functions\n",
    "df['Age'].hist(bins=5)"
   ]
  },
  {
   "cell_type": "code",
   "execution_count": null,
   "id": "f57b3ab1",
   "metadata": {},
   "outputs": [],
   "source": [
    "# transform the data\n",
    "df['M/F'].value_counts()"
   ]
  },
  {
   "cell_type": "code",
   "execution_count": null,
   "id": "9c61c3d3",
   "metadata": {},
   "outputs": [],
   "source": [
    "# mean of the Age, grouped by Country\n",
    "df[['Country','Age']].groupby('Country').mean()"
   ]
  },
  {
   "cell_type": "code",
   "execution_count": null,
   "id": "d12edcbf",
   "metadata": {},
   "outputs": [],
   "source": [
    "df[['Country','Age']].groupby('Country', as_index=False).mean()"
   ]
  },
  {
   "cell_type": "code",
   "execution_count": null,
   "id": "3cc1e008",
   "metadata": {},
   "outputs": [],
   "source": [
    "# if I now want to manipulate this dataframe I need to assign it to a variable name\n",
    "age_avg = df[['Country','Age']].groupby('Country', as_index=False).mean()"
   ]
  },
  {
   "cell_type": "code",
   "execution_count": null,
   "id": "922feaf1",
   "metadata": {},
   "outputs": [],
   "source": [
    "# sort by average age!\n",
    "age_avg.sort_values(by='Age')"
   ]
  },
  {
   "cell_type": "markdown",
   "id": "79f6a173",
   "metadata": {},
   "source": [
    "This outputs a series of True/False values the same length as the DataFrame.\n",
    "- Look at ```small_df```\n",
    "- Print out ```small_df['color' == 'I']```\n",
    "- Think about why ```small_df[small_df['color' == 'I']``` outputs a DataFrame with rows where the color is labelled ```I```."
   ]
  },
  {
   "cell_type": "markdown",
   "id": "cb9cd61b",
   "metadata": {},
   "source": [
    "## Lab 1 Part 1: Pandas\n",
    "\n",
    "Check out the penguins dataset for the following 5 questions.\n",
    "\n",
    "``` df = sns.load_dataset('penguins')```\n",
    "\n",
    "``` df = pd.read_csv('https://raw.githubusercontent.com/mwaskom/seaborn-data/master/penguins.csv')```\n",
    "\n",
    "\n",
    "1. What are the variables in this dataset? Which are categorical? Which are continuous? Discrete? (Use pandas commands to answer these questions!)\n",
    "2. Which columns have missing values? How many?\n",
    "3. Create a new column giving the body mass in *pounds*. (Hint: you may need to use Google!)\n",
    "4. How many species types are there? How many penguins are there for each species type?\n",
    "5. Which species type, on average, weighs more? Does there seem to be a difference between male and female weight?\n",
    "6. Sort the penguins by bill length.\n",
    "7. Create a dataframe of only penguins of species \"Adelie\".\n",
    "8. Generate a hypothesis about the data, then answer it! (see Q4 above for example)"
   ]
  },
  {
   "cell_type": "code",
   "execution_count": null,
   "id": "1a0b1c43",
   "metadata": {},
   "outputs": [],
   "source": [
    "df = pd.read_csv('https://raw.githubusercontent.com/mwaskom/seaborn-data/master/penguins.csv')"
   ]
  },
  {
   "cell_type": "code",
   "execution_count": null,
   "id": "2d5cd3a8",
   "metadata": {},
   "outputs": [],
   "source": [
    "df"
   ]
  },
  {
   "cell_type": "markdown",
   "id": "c744b179",
   "metadata": {},
   "source": [
    "# matplotlib\n",
    "\n",
    "- Let's start with some np.arrays!"
   ]
  },
  {
   "cell_type": "code",
   "execution_count": null,
   "id": "72993cf6",
   "metadata": {},
   "outputs": [],
   "source": [
    "x = np.array([1,2,3,4])\n",
    "x"
   ]
  },
  {
   "cell_type": "code",
   "execution_count": null,
   "id": "84b27082",
   "metadata": {},
   "outputs": [],
   "source": [
    "type(x)"
   ]
  },
  {
   "cell_type": "code",
   "execution_count": null,
   "id": "deba7bd9",
   "metadata": {},
   "outputs": [],
   "source": [
    "# most useful np.array method!\n",
    "x.shape"
   ]
  },
  {
   "cell_type": "code",
   "execution_count": null,
   "id": "36f9280d",
   "metadata": {},
   "outputs": [],
   "source": [
    "x = np.array([[1,2],[3,4],[5,6]])\n",
    "x.shape"
   ]
  },
  {
   "cell_type": "code",
   "execution_count": null,
   "id": "15ed2a5c",
   "metadata": {},
   "outputs": [],
   "source": [
    "x"
   ]
  },
  {
   "cell_type": "code",
   "execution_count": null,
   "id": "96f993c6",
   "metadata": {},
   "outputs": [],
   "source": [
    "# What is this doing?\n",
    "x = np.random.randint(low=1, high=10, size=10)\n",
    "x"
   ]
  },
  {
   "cell_type": "code",
   "execution_count": null,
   "id": "ccbbc5a1",
   "metadata": {},
   "outputs": [],
   "source": [
    "# and this?\n",
    "x = np.random.rand(100)\n",
    "x"
   ]
  },
  {
   "cell_type": "markdown",
   "id": "fdd223dc",
   "metadata": {},
   "source": [
    "Now let's do some plotting"
   ]
  },
  {
   "cell_type": "code",
   "execution_count": null,
   "id": "07e4bc68",
   "metadata": {},
   "outputs": [],
   "source": [
    "# a simple line chart\n",
    "plt.plot([0,1,2,3,4], [2,3,5,10,15])"
   ]
  },
  {
   "cell_type": "code",
   "execution_count": null,
   "id": "9d2ef86f",
   "metadata": {},
   "outputs": [],
   "source": [
    "# better to use plt.show rather than \"printing\" the line chart\n",
    "plt.plot([0,1,2,3,4], [2,3,5,10,15])\n",
    "plt.show()\n",
    "plt.plot([0,1,2,3,4], [1,1,1,1,1])\n",
    "plt.show()"
   ]
  },
  {
   "cell_type": "code",
   "execution_count": null,
   "id": "f3609ff9",
   "metadata": {},
   "outputs": [],
   "source": [
    "# scatter plot!\n",
    "plt.plot([0,1,2,3,4], [2,3,5,10,15], 'ro')\n",
    "plt.show()"
   ]
  },
  {
   "cell_type": "code",
   "execution_count": null,
   "id": "1a5b5a4d",
   "metadata": {},
   "outputs": [],
   "source": [
    "# plt takes in np arrays!\n",
    "# np.arange(k) makes a sequence of k numbers\n",
    "plt.plot(np.arange(5), np.random.randint(10, size=5))\n",
    "plt.show()\n",
    "\n",
    "start = 0\n",
    "stop = 10\n",
    "num_pts = 50\n",
    "# linspace creates a sequence of points using a start, stop, and number of points option\n",
    "plt.plot(np.linspace(start, stop, num_pts), np.random.randint(10, size=50), 'ro')\n",
    "plt.show()"
   ]
  },
  {
   "cell_type": "code",
   "execution_count": null,
   "id": "81e505a1",
   "metadata": {},
   "outputs": [],
   "source": [
    "plt.plot(np.linspace(start, stop, num_pts), np.random.randint(10, size=50), 'ro')\n",
    "\n",
    "# easy to format the graph!\n",
    "plt.xlabel(f'{num_pts} numbers from {start} to {stop}')\n",
    "plt.ylabel('Random integers!')\n",
    "plt.title('This is a Scatter Plot')\n",
    "plt.show()"
   ]
  },
  {
   "cell_type": "code",
   "execution_count": null,
   "id": "abecc0bf",
   "metadata": {},
   "outputs": [],
   "source": [
    "# create a figure and one subplot\n",
    "fig, ax = plt.subplots()\n",
    "plt.show()"
   ]
  },
  {
   "cell_type": "code",
   "execution_count": null,
   "id": "6a21716a",
   "metadata": {},
   "outputs": [],
   "source": [
    "fig, ax = plt.subplots()\n",
    "\n",
    "# populate the subplot\n",
    "ax.plot(np.linspace(start, stop, num_pts), np.random.randint(10, size=50), 'ro')\n",
    "ax.set_title('A single plot')\n",
    "\n",
    "# show it\n",
    "plt.show()"
   ]
  },
  {
   "cell_type": "code",
   "execution_count": null,
   "id": "9da66fea",
   "metadata": {},
   "outputs": [],
   "source": [
    "# multiple subplots\n",
    "fig, axes = plt.subplots(nrows=5, ncols=1)\n",
    "\n",
    "for idx in range(5):\n",
    "    axes[idx].plot(np.linspace(start, stop, num_pts), np.random.randint(10, size=50), 'ro')\n",
    "\n",
    "plt.show()"
   ]
  },
  {
   "cell_type": "code",
   "execution_count": null,
   "id": "e8fb99f8",
   "metadata": {},
   "outputs": [],
   "source": [
    "# a little bigger now\n",
    "# figsize = (width, height)\n",
    "fig, axes = plt.subplots(nrows=5, ncols=2, figsize=(10,20))\n",
    "\n",
    "for idx in range(5):\n",
    "    for idx2 in range(2):\n",
    "        # can use scatter instead of plot too\n",
    "        axes[idx, idx2].scatter(np.linspace(start, stop, num_pts), np.random.randint(10, size=50))\n",
    "\n",
    "plt.show()"
   ]
  },
  {
   "cell_type": "code",
   "execution_count": null,
   "id": "bd28a049",
   "metadata": {},
   "outputs": [],
   "source": [
    "# let's make some bar graphs\n",
    "df = sns.load_dataset('diamonds')\n",
    "color_counts = df['color'].value_counts()\n",
    "color_counts"
   ]
  },
  {
   "cell_type": "code",
   "execution_count": null,
   "id": "f6b71570",
   "metadata": {},
   "outputs": [],
   "source": [
    "plt.bar(color_counts.index, color_counts.values)"
   ]
  },
  {
   "cell_type": "markdown",
   "id": "4df5985f",
   "metadata": {},
   "source": [
    "## Lab 1 Part 2: Matplotlib\n",
    "\n",
    "1. Plot the line ```y=2x``` from ```x=0``` to ```x=30``` using ```plt.plot```.\n",
    "2. Create a scatter plot where the x values are the first 100 integers in ascending order and the y values are the first 100 integers in descending order.\n",
    "\n",
    "Use the penguins dataset from Part 1 for the following questions\n",
    "\n",
    "3. Create *one* figure with four histograms, one for each of the numeric variables.\n",
    "4. Create a bar chart to answer the questions \"How many penguins are there for each species type?\"\n",
    "5. Make the bar chart **horizontal**!\n",
    "6. Make a scatter plot comparing two of numeric variables. Is there any relationship here?\n",
    "\n",
    "BONUS: Incorporate a *third* variable by coloring the scatter plot points according to ```island```."
   ]
  },
  {
   "cell_type": "code",
   "execution_count": null,
   "id": "efe3b818",
   "metadata": {},
   "outputs": [],
   "source": []
  }
 ],
 "metadata": {
  "kernelspec": {
   "display_name": "Python 3",
   "language": "python",
   "name": "python3"
  },
  "language_info": {
   "codemirror_mode": {
    "name": "ipython",
    "version": 3
   },
   "file_extension": ".py",
   "mimetype": "text/x-python",
   "name": "python",
   "nbconvert_exporter": "python",
   "pygments_lexer": "ipython3",
   "version": "3.8.8"
  }
 },
 "nbformat": 4,
 "nbformat_minor": 5
}
